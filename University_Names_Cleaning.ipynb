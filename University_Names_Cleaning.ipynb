{
  "cells": [
    {
      "cell_type": "markdown",
      "source": [
        "##Import dependencies"
      ],
      "metadata": {
        "id": "8fia3jCCQ6x5"
      }
    },
    {
      "cell_type": "code",
      "execution_count": 1,
      "metadata": {
        "id": "KQbrjUqf3BUZ"
      },
      "outputs": [],
      "source": [
        "import pandas as pd\n",
        "import numpy as np"
      ]
    },
    {
      "cell_type": "markdown",
      "metadata": {
        "id": "gWVjfsLM6l9d"
      },
      "source": [
        "##Cleaning school names from the dataset"
      ]
    },
    {
      "cell_type": "code",
      "execution_count": 2,
      "metadata": {
        "id": "lI280ruL4SLp"
      },
      "outputs": [],
      "source": [
        "df = pd.read_parquet('/content/ct_job_app_education.parquet')"
      ]
    },
    {
      "cell_type": "code",
      "execution_count": 3,
      "metadata": {
        "id": "pzl-XJ4K5Wb3"
      },
      "outputs": [],
      "source": [
        "df1=df['school_name'].fillna('').str.upper().sort_values()"
      ]
    },
    {
      "cell_type": "code",
      "execution_count": 4,
      "metadata": {
        "id": "_MXeGlukVlWD"
      },
      "outputs": [],
      "source": [
        "new_list = []\n",
        "for x in df1:\n",
        "      new_list.append(x.strip())\n",
        "\n",
        "df1= new_list"
      ]
    },
    {
      "cell_type": "code",
      "execution_count": 5,
      "metadata": {
        "id": "Jr21VOqb9VXB"
      },
      "outputs": [],
      "source": [
        "import re\n",
        "def remove_punct(text):\n",
        "    new_words = []\n",
        "    for word in text:\n",
        "        w = re.sub(r'[^\\w\\s]','',word) #remove everything except words and space\n",
        "        w = re.sub(r'_','',w) #how to remove underscore as well\n",
        "        new_words.append(w)\n",
        "    return new_words"
      ]
    },
    {
      "cell_type": "code",
      "execution_count": 6,
      "metadata": {
        "id": "wwbyhs63-DWp"
      },
      "outputs": [],
      "source": [
        "school_namedf = pd.DataFrame(remove_punct(df1))\n",
        "#school_namedf['school_name'] = pd.DataFrame(remove_punct(df1))"
      ]
    },
    {
      "cell_type": "code",
      "execution_count": 7,
      "metadata": {
        "id": "DFHDvP5rQiJ6"
      },
      "outputs": [],
      "source": [
        "school_namedf.replace([\"\",\" \",\"OTHER\", \"OTHERS\"], np.nan, inplace=True)\n"
      ]
    },
    {
      "cell_type": "code",
      "execution_count": 8,
      "metadata": {
        "id": "TLH29j2oT-MW"
      },
      "outputs": [],
      "source": [
        "school_namedf_na=school_namedf.dropna()"
      ]
    },
    {
      "cell_type": "code",
      "execution_count": 9,
      "metadata": {
        "id": "cRdfepQu-VLB"
      },
      "outputs": [],
      "source": [
        "school_namedf_na=school_namedf_na.replace(\"ACCA\", \"ASSOCIATION OF CHARTERED CERTIFIED ACCOUNTANTS\")\n",
        "school_namedf_na=school_namedf_na.replace(\"APU\", \"ASIA PACIFIC UNIVERSITY OF TECHNOLOGY AND INNOVATION\")\n",
        "school_namedf_na=school_namedf_na.replace(\"AMIK\", \"AMIK BINA SARANA INFORMATIKAAPU\")\n",
        "school_namedf_na=school_namedf_na.replace(\"BSI\", \"UNIVERSITAS BINA SARANA INFORMATIKA\")\n",
        "school_namedf_na=school_namedf_na.replace(\"FKIP\", \"FKIP BAHASA INGGRIS\")\n",
        "school_namedf_na=school_namedf_na.replace(\"FPT\", \"FPT UNIVERSITY\")\n",
        "school_namedf_na=school_namedf_na.replace(\"GCUF\", \"GOVERNMENT COLLEGE UNIVERSITY FAISALABAD\")\n",
        "school_namedf_na=school_namedf_na.replace(\"GIKI\", \"GHULAM ISHAQ KHAN INSTITUTE\")\n",
        "school_namedf_na=school_namedf_na.replace(\"I3L\", \"INDONESIA INTERNATIONAL INSTITUTE FOR LIFE SCIENCES\")\n",
        "school_namedf_na=school_namedf_na.replace(\"IAIN\", \"INSTITUT AGAMA ISLAM NEGERI\")\n",
        "school_namedf_na=school_namedf_na.replace(\"IBA\", \"UNIVERSITY IBA\")\n",
        "school_namedf_na=school_namedf_na.replace(\"IBBI\", \"SEKOLAH TINGGI ILMU EKONOMI\")\n",
        "school_namedf_na=school_namedf_na.replace(\"IBM\", \"IBM ASMI\")\n",
        "school_namedf_na=school_namedf_na.replace(\"ICBS\", \"IMPERIAL COLLEGE OF BUSINESS STUDIES\")\n",
        "school_namedf_na=school_namedf_na.replace(\"IIEE\", \"IIEE NED UNIVERSITY OF ENGINEERING AND TECHNOLOGY\")\n",
        "school_namedf_na=school_namedf_na.replace(\"IIUM\", \"INTERNATIONAL ISLAMIC UNIVERSITY MALAYSIA\")\n",
        "school_namedf_na=school_namedf_na.replace(\"INTI\", \"INTI INTERNATIONAL COLLEGE\")\n",
        "school_namedf_na=school_namedf_na.replace(\"IPA\", \"INSTITUTE OF PUBLIC ADMINISTRATION\")\n",
        "school_namedf_na=school_namedf_na.replace(\"IPB\", \"INSTITUT PERTANIAN BOGOR\")\n",
        "school_namedf_na=school_namedf_na.replace(\"ITB\", \"BANDUNG INSTITUTE OF TECHNOLOGHY\")\n",
        "school_namedf_na=school_namedf_na.replace(\"ITNY\", \"INSTITUT TEKNOLOGI NASIONAL YOGYAKARTA\")\n",
        "school_namedf_na=school_namedf_na.replace(\"ITS\", \"INSTITUT SEPULUH NOPEMBER\")\n",
        "school_namedf_na=school_namedf_na.replace(\"IUMW\", \"INTERNATIONAL UNIVERSITY OF MALAYAWALES\")\n",
        "school_namedf_na=school_namedf_na.replace(\"KPTM\", \"KOLEJ POLYTECH MARA\")\n",
        "school_namedf_na=school_namedf_na.replace(\"LP31\", \"LP3I COLLEGE\")\n",
        "school_namedf_na=school_namedf_na.replace(\"LSC\", \"LONDON SCHOOL OF COMMERCE\")\n",
        "school_namedf_na=school_namedf_na.replace(\"LSPR\", \"LONDON SCHOOL OF PUBLIC RELATIONS\")\n",
        "school_namedf_na=school_namedf_na.replace(\"MCHM\", \"MALAYSIAN COLLEGE OF HOSPITALITY AND MANAGEMENT\")\n",
        "school_namedf_na=school_namedf_na.replace(\"MMU\", \"MULTIMEDIA UNIVERSITY\")\n",
        "school_namedf_na=school_namedf_na.replace(\"MSU\", \"MANAGEMENT SCIENCE UNIVERSITY\")\n",
        "school_namedf_na=school_namedf_na.replace(\"NED\", \"NED UNIVERSITY OF ENGINEERING AND TECHNOLOGY\")\n",
        "school_namedf_na=school_namedf_na.replace(\"NTU\", \"NANYANG TECHNOLOGICAL UNIVERSITY\")\n",
        "school_namedf_na=school_namedf_na.replace(\"NUS\", \"NATIONAL UNIVERSITY OF SINGAPORE\")\n",
        "school_namedf_na=school_namedf_na.replace(\"NUST\", \"NATIONAL UNIVERSITY OF SCIENCE AND TECHNOLOGY NUST\")\n",
        "school_namedf_na=school_namedf_na.replace(\"PENS\", \"ELECTRONIC ENGINEERING POLYTECHNIC INSTITUTE OF SURABAYA\")\n",
        "school_namedf_na=school_namedf_na.replace(\"PVU\", \"TRƯỜNG ĐẠI HỌC\")\n",
        "school_namedf_na=school_namedf_na.replace(\"RMIT\", \"ROYAL MELBOURNE INSTITUTE OF TECHNOLOGY\")\n",
        "school_namedf_na=school_namedf_na.replace(\"SEGI\", \"SEGI COLLEGE\")\n",
        "school_namedf_na=school_namedf_na.replace(\"STIA\", \"SEKOLAH TINGGI ILMU ADMINISTRASI\")\n",
        "school_namedf_na=school_namedf_na.replace(\"STIE\", \"SEKOLAH TINGGI ILMU EKONOMI\")\n",
        "school_namedf_na=school_namedf_na.replace(\"SWUC\", \"SOUTHWESTERN CHRISTIAN UNIVERSITY\")\n",
        "school_namedf_na=school_namedf_na.replace(\"UBSI\", \"UNIVERSITAS BINA SARANA INFORMATIKA\")\n",
        "school_namedf_na=school_namedf_na.replace(\"UCSI\", \"UCSI UNIVERISTY\")\n",
        "school_namedf_na=school_namedf_na.replace(\"UEF\", \"ĐẠI HỌC KINH TẾ QUỐC DÂN\")\n",
        "school_namedf_na=school_namedf_na.replace(\"UEH\", \"UNIVERSITY OF ECONOMICS HCMC\")\n",
        "school_namedf_na=school_namedf_na.replace(\"UEL\", \"UNIVERSITY OF EAST LONDON\")\n",
        "school_namedf_na=school_namedf_na.replace(\"UGM\", \"GADJAH MADA UNIVERSITY\")\n",
        "school_namedf_na=school_namedf_na.replace(\"UIAM\", \"UNIVERSITI ISLAM ANTARABANGSA MALAYSIA\")\n",
        "school_namedf_na=school_namedf_na.replace(\"UII\", \"UNIVERSITY ISLAM INDONESIA\")\n",
        "school_namedf_na=school_namedf_na.replace(\"UITM\", \"MARA UNIVERSITY OF TECHNOLOGY MALAYSIA\")\n",
        "school_namedf_na=school_namedf_na.replace(\"UKI\", \"UNIVERSITY KRISTEN INDONESIA\")\n",
        "school_namedf_na=school_namedf_na.replace(\"UKM\", \"NATIONAL UNIVERSITY OF MALAYSIA\")\n",
        "school_namedf_na=school_namedf_na.replace(\"UM\", \"UNIVERSITY OF MALAYA\")\n",
        "school_namedf_na=school_namedf_na.replace(\"UMJ\", \"UNIVERSITAS MUHAMMADIYAH JAKARTA\")\n",
        "school_namedf_na=school_namedf_na.replace(\"UMM\", \"UNIVERSITY OF MALAYA\")\n",
        "school_namedf_na=school_namedf_na.replace(\"UMP\", \"UNIVERSITY MALAYSIA PAHANG\")\n",
        "school_namedf_na=school_namedf_na.replace(\"UMSU\", \"UNIVERSITY MUHAMMADIYAH SUMATERA UTARA\")\n",
        "school_namedf_na=school_namedf_na.replace(\"UMT\", \"UNIVERSITI MALAYSIA TERENGGANU\")\n",
        "school_namedf_na=school_namedf_na.replace(\"UMY\", \"UNIVERSITY MUHAMMADIYAH YOGYAKARTA\")\n",
        "school_namedf_na=school_namedf_na.replace(\"UNS\", \"SEBELAS MARET UNIVERSITY\")\n",
        "school_namedf_na=school_namedf_na.replace(\"UNSW\", \"UNIVERSITY OF NEW SOUTH WALES\")\n",
        "school_namedf_na=school_namedf_na.replace(\"UNY\", \"UNIVERSITAS NEGERI YOGYAKARTA\")\n",
        "school_namedf_na=school_namedf_na.replace(\"UOL\", \"UNIVERSITY OF LONDON\")\n",
        "school_namedf_na=school_namedf_na.replace(\"UPH\", \"PELITA HARAPAN UNIVERSITY\")\n",
        "school_namedf_na=school_namedf_na.replace(\"UPI\", \"UNIVERSITY PENDIDIKAN INDONESIA\")\n",
        "school_namedf_na=school_namedf_na.replace(\"UPM\", \"UNIVERSITY PUTRA MALAYSIA\")\n",
        "school_namedf_na=school_namedf_na.replace(\"UPNM\", \"UNIVERSITI PERTAHANAN NASIONAL MALAYSIA\")\n",
        "school_namedf_na=school_namedf_na.replace(\"USIM\", \"UNIVERSITI SAINS ISLAM MALAYSIA\")\n",
        "school_namedf_na=school_namedf_na.replace(\"USM\", \"UNIVERSITI SAINS MALAYSIA\")\n",
        "school_namedf_na=school_namedf_na.replace(\"USU\", \"UNIVERSITY SUMATERA UTARA\")\n",
        "school_namedf_na=school_namedf_na.replace(\"UTAR\", \"UNIVERSITY TUNKU ABDUL RAHMAN\")\n",
        "school_namedf_na=school_namedf_na.replace(\"UTEM\", \"UNIVERSITI TEKNIKAL MALAYSIA MELAKA\")\n",
        "school_namedf_na=school_namedf_na.replace(\"UTHM\", \"UNIVERSITY TUN HUSSEIN ONN MALAYSIA\")\n",
        "school_namedf_na=school_namedf_na.replace(\"UTM\", \"UNIVERSITY TEKNOLOGI MALAYSIA\")\n",
        "school_namedf_na=school_namedf_na.replace(\"UTP\", \"UNIVERSITI TEKNOLOGI PETRONAS\")\n",
        "school_namedf_na=school_namedf_na.replace(\"UUM\", \"UNIVERSITY UTARA MALAYSIA\")\n",
        "school_namedf_na=school_namedf_na.replace(\"YAI\", \"AKADEMI AKUNTANSI YAI\")"
      ]
    },
    {
      "cell_type": "code",
      "execution_count": 10,
      "metadata": {
        "id": "cyeRTwphH9Y9"
      },
      "outputs": [],
      "source": [
        "transform_list=['BINA NUNSATARA UNIVERSITY', \n",
        "                'BINA NUSANTARA', \n",
        "                'BINA NUSANTARA BINUS', \n",
        "                'BINA NUSANTARA BINUS UNIVERSITY', \n",
        "                'BINA NUSANTARA BUSINESS SCHOOL',\n",
        "                'BINA NUSANTARA INTERNATIONAL UNIVERSITY',\n",
        "                'BINA NUSANTARA INTERNATIONAL UNIVERSITY CBS INTERNATIONAL BUSINESS SCHOOL',\n",
        "                'BINA NUSANTARA UNIVERCITY',\n",
        "                'BINA NUSANTARA UNIVERISTY',\n",
        "                'BINA NUSANTARA UNIVERSIRY',\n",
        "                'BINA NUSANTARA UNIVERSITY',\n",
        "                'BINA NUSANTARA UNIVERSITY BINUS UNIVERSITY',\n",
        "                'BINA NUSANTARA UNIVERSITY BINUS']\n",
        "\n",
        "for i in school_namedf_na:\n",
        "  for i in transform_list:\n",
        "    school_namedf_na=school_namedf_na.replace(i, 'BINUS UNIVERSITY')   \n",
        "                 "
      ]
    },
    {
      "cell_type": "code",
      "execution_count": 11,
      "metadata": {
        "colab": {
          "base_uri": "https://localhost:8080/",
          "height": 424
        },
        "id": "GLsHUtClvyI-",
        "outputId": "99b8cde2-4301-486a-a6ff-0e9927f38a9b"
      },
      "outputs": [
        {
          "output_type": "execute_result",
          "data": {
            "text/html": [
              "\n",
              "  <div id=\"df-eb27a0ea-8eba-4051-bd59-6bcb37fe5c0b\">\n",
              "    <div class=\"colab-df-container\">\n",
              "      <div>\n",
              "<style scoped>\n",
              "    .dataframe tbody tr th:only-of-type {\n",
              "        vertical-align: middle;\n",
              "    }\n",
              "\n",
              "    .dataframe tbody tr th {\n",
              "        vertical-align: top;\n",
              "    }\n",
              "\n",
              "    .dataframe thead th {\n",
              "        text-align: right;\n",
              "    }\n",
              "</style>\n",
              "<table border=\"1\" class=\"dataframe\">\n",
              "  <thead>\n",
              "    <tr style=\"text-align: right;\">\n",
              "      <th></th>\n",
              "      <th>0</th>\n",
              "    </tr>\n",
              "  </thead>\n",
              "  <tbody>\n",
              "    <tr>\n",
              "      <th>57</th>\n",
              "      <td>ANDALAS UNIVERSITY</td>\n",
              "    </tr>\n",
              "    <tr>\n",
              "      <th>58</th>\n",
              "      <td>ATMA JAYA CATHOLIC UNIVERSITY OF INDONESIA</td>\n",
              "    </tr>\n",
              "    <tr>\n",
              "      <th>59</th>\n",
              "      <td>BANDUNG POLYTECHNIC FOR MANUFACTURING  POLMAN ...</td>\n",
              "    </tr>\n",
              "    <tr>\n",
              "      <th>60</th>\n",
              "      <td>HO CHI MINH CITY UNIVERSITY OF TECHNOLOGY AND ...</td>\n",
              "    </tr>\n",
              "    <tr>\n",
              "      <th>61</th>\n",
              "      <td>JENDERAL SOEDIRMAN UNIVERSITY</td>\n",
              "    </tr>\n",
              "    <tr>\n",
              "      <th>...</th>\n",
              "      <td>...</td>\n",
              "    </tr>\n",
              "    <tr>\n",
              "      <th>59886</th>\n",
              "      <td>ĐẠI HỌC CÔNG ĐOÀN</td>\n",
              "    </tr>\n",
              "    <tr>\n",
              "      <th>59887</th>\n",
              "      <td>ĐẠI HỌC KINH TẾ  QUỐC DÂN</td>\n",
              "    </tr>\n",
              "    <tr>\n",
              "      <th>59888</th>\n",
              "      <td>ĐẠI HỌC TÀI CHÍNH MARKETING</td>\n",
              "    </tr>\n",
              "    <tr>\n",
              "      <th>59889</th>\n",
              "      <td>\\tIMG SRCJAVASCRIPTALERTTEST</td>\n",
              "    </tr>\n",
              "    <tr>\n",
              "      <th>59890</th>\n",
              "      <td>東洋大学 TOYO UNIVERSITY</td>\n",
              "    </tr>\n",
              "  </tbody>\n",
              "</table>\n",
              "<p>59630 rows × 1 columns</p>\n",
              "</div>\n",
              "      <button class=\"colab-df-convert\" onclick=\"convertToInteractive('df-eb27a0ea-8eba-4051-bd59-6bcb37fe5c0b')\"\n",
              "              title=\"Convert this dataframe to an interactive table.\"\n",
              "              style=\"display:none;\">\n",
              "        \n",
              "  <svg xmlns=\"http://www.w3.org/2000/svg\" height=\"24px\"viewBox=\"0 0 24 24\"\n",
              "       width=\"24px\">\n",
              "    <path d=\"M0 0h24v24H0V0z\" fill=\"none\"/>\n",
              "    <path d=\"M18.56 5.44l.94 2.06.94-2.06 2.06-.94-2.06-.94-.94-2.06-.94 2.06-2.06.94zm-11 1L8.5 8.5l.94-2.06 2.06-.94-2.06-.94L8.5 2.5l-.94 2.06-2.06.94zm10 10l.94 2.06.94-2.06 2.06-.94-2.06-.94-.94-2.06-.94 2.06-2.06.94z\"/><path d=\"M17.41 7.96l-1.37-1.37c-.4-.4-.92-.59-1.43-.59-.52 0-1.04.2-1.43.59L10.3 9.45l-7.72 7.72c-.78.78-.78 2.05 0 2.83L4 21.41c.39.39.9.59 1.41.59.51 0 1.02-.2 1.41-.59l7.78-7.78 2.81-2.81c.8-.78.8-2.07 0-2.86zM5.41 20L4 18.59l7.72-7.72 1.47 1.35L5.41 20z\"/>\n",
              "  </svg>\n",
              "      </button>\n",
              "      \n",
              "  <style>\n",
              "    .colab-df-container {\n",
              "      display:flex;\n",
              "      flex-wrap:wrap;\n",
              "      gap: 12px;\n",
              "    }\n",
              "\n",
              "    .colab-df-convert {\n",
              "      background-color: #E8F0FE;\n",
              "      border: none;\n",
              "      border-radius: 50%;\n",
              "      cursor: pointer;\n",
              "      display: none;\n",
              "      fill: #1967D2;\n",
              "      height: 32px;\n",
              "      padding: 0 0 0 0;\n",
              "      width: 32px;\n",
              "    }\n",
              "\n",
              "    .colab-df-convert:hover {\n",
              "      background-color: #E2EBFA;\n",
              "      box-shadow: 0px 1px 2px rgba(60, 64, 67, 0.3), 0px 1px 3px 1px rgba(60, 64, 67, 0.15);\n",
              "      fill: #174EA6;\n",
              "    }\n",
              "\n",
              "    [theme=dark] .colab-df-convert {\n",
              "      background-color: #3B4455;\n",
              "      fill: #D2E3FC;\n",
              "    }\n",
              "\n",
              "    [theme=dark] .colab-df-convert:hover {\n",
              "      background-color: #434B5C;\n",
              "      box-shadow: 0px 1px 3px 1px rgba(0, 0, 0, 0.15);\n",
              "      filter: drop-shadow(0px 1px 2px rgba(0, 0, 0, 0.3));\n",
              "      fill: #FFFFFF;\n",
              "    }\n",
              "  </style>\n",
              "\n",
              "      <script>\n",
              "        const buttonEl =\n",
              "          document.querySelector('#df-eb27a0ea-8eba-4051-bd59-6bcb37fe5c0b button.colab-df-convert');\n",
              "        buttonEl.style.display =\n",
              "          google.colab.kernel.accessAllowed ? 'block' : 'none';\n",
              "\n",
              "        async function convertToInteractive(key) {\n",
              "          const element = document.querySelector('#df-eb27a0ea-8eba-4051-bd59-6bcb37fe5c0b');\n",
              "          const dataTable =\n",
              "            await google.colab.kernel.invokeFunction('convertToInteractive',\n",
              "                                                     [key], {});\n",
              "          if (!dataTable) return;\n",
              "\n",
              "          const docLinkHtml = 'Like what you see? Visit the ' +\n",
              "            '<a target=\"_blank\" href=https://colab.research.google.com/notebooks/data_table.ipynb>data table notebook</a>'\n",
              "            + ' to learn more about interactive tables.';\n",
              "          element.innerHTML = '';\n",
              "          dataTable['output_type'] = 'display_data';\n",
              "          await google.colab.output.renderOutput(dataTable, element);\n",
              "          const docLink = document.createElement('div');\n",
              "          docLink.innerHTML = docLinkHtml;\n",
              "          element.appendChild(docLink);\n",
              "        }\n",
              "      </script>\n",
              "    </div>\n",
              "  </div>\n",
              "  "
            ],
            "text/plain": [
              "                                                       0\n",
              "57                                    ANDALAS UNIVERSITY\n",
              "58            ATMA JAYA CATHOLIC UNIVERSITY OF INDONESIA\n",
              "59     BANDUNG POLYTECHNIC FOR MANUFACTURING  POLMAN ...\n",
              "60     HO CHI MINH CITY UNIVERSITY OF TECHNOLOGY AND ...\n",
              "61                         JENDERAL SOEDIRMAN UNIVERSITY\n",
              "...                                                  ...\n",
              "59886                                  ĐẠI HỌC CÔNG ĐOÀN\n",
              "59887                          ĐẠI HỌC KINH TẾ  QUỐC DÂN\n",
              "59888                        ĐẠI HỌC TÀI CHÍNH MARKETING\n",
              "59889                       \\tIMG SRCJAVASCRIPTALERTTEST\n",
              "59890                               東洋大学 TOYO UNIVERSITY\n",
              "\n",
              "[59630 rows x 1 columns]"
            ]
          },
          "metadata": {},
          "execution_count": 11
        }
      ],
      "source": [
        "#Remove string length < 5\n",
        "school_namedf_na = school_namedf_na[school_namedf_na[0].str.len() > 5]\n",
        "school_namedf_na"
      ]
    },
    {
      "cell_type": "code",
      "source": [
        "school_name_list = school_namedf_na.iloc[:,0].values.tolist()\n",
        "school_name_list"
      ],
      "metadata": {
        "id": "YmgRvFGekCx3"
      },
      "execution_count": null,
      "outputs": []
    },
    {
      "cell_type": "code",
      "source": [
        "z = []\n",
        "cool = []\n",
        "for x in school_name_list:\n",
        "  z.append(x.split())\n",
        "\n",
        "for i in range(len(z)):\n",
        "  if len(z[i]) == 0:\n",
        "    continue\n",
        "  \n",
        "  if z[i][0].endswith('ITAS'):\n",
        "    cool.append(' '.join(['UNIVERSITY'] + z[i][1:]))\n",
        "  else:\n",
        "    cool.append(' '.join(z[i][0:]))\n",
        "cool"
      ],
      "metadata": {
        "id": "fpJ88A5qkWm8"
      },
      "execution_count": null,
      "outputs": []
    },
    {
      "cell_type": "code",
      "source": [
        "school_name = pd.DataFrame(cool)\n",
        "school_name.columns=['school_name']"
      ],
      "metadata": {
        "id": "ptNDqHWIkedV"
      },
      "execution_count": 14,
      "outputs": []
    },
    {
      "cell_type": "code",
      "source": [
        "unique_list=pd.DataFrame(school_name['school_name'].unique())\n",
        "unique_list.columns=['school_names']\n",
        "unique_list"
      ],
      "metadata": {
        "id": "pRI4WUPUkrwK"
      },
      "execution_count": null,
      "outputs": []
    },
    {
      "cell_type": "code",
      "source": [
        "#Save cleaned names to a csv\n",
        "\n",
        "unique_list.to_csv('unique_list.csv')"
      ],
      "metadata": {
        "id": "keww42QxIBqw"
      },
      "execution_count": null,
      "outputs": []
    },
    {
      "cell_type": "markdown",
      "metadata": {
        "id": "2-0u5DyfKLcl"
      },
      "source": [
        "##Clean the scraped list of unis\n"
      ]
    },
    {
      "cell_type": "code",
      "execution_count": null,
      "metadata": {
        "id": "wkuliMZgDtVO"
      },
      "outputs": [],
      "source": [
        "uniname = pd.read_csv('/content/universities_list.txt', delimiter =\",\", header=None, names=[\"uni_names\"])\n",
        "#listuniname = pd.DataFrame(remove_punct(listuniname))"
      ]
    },
    {
      "cell_type": "code",
      "execution_count": null,
      "metadata": {
        "id": "bTbCqzUNEnfW"
      },
      "outputs": [],
      "source": [
        "seriesuniname=uniname.squeeze()\n",
        "#remove_punct(listuniname)"
      ]
    },
    {
      "cell_type": "code",
      "execution_count": null,
      "metadata": {
        "colab": {
          "base_uri": "https://localhost:8080/"
        },
        "id": "o92I3MzaIDCf",
        "outputId": "a0fb0ecf-56c2-49cf-921e-b5d56b1eec33"
      },
      "outputs": [
        {
          "output_type": "execute_result",
          "data": {
            "text/plain": [
              "0                                                        [\n",
              "1                      '\"Angel Kančev\" University of Ruse'\n",
              "2          '\"Baltazar Adam Krčelić\" College of Business...\n",
              "3          '\"Chernorizets Hrabar\"  Free University of V...\n",
              "4          '\"D.A. Tsenov\" Academy of Economics - Svishtov'\n",
              "                               ...                        \n",
              "17345                         'Zumbi dos Palmares Faculty'\n",
              "17346                              'Zunyi Medical College'\n",
              "17347                               'Zunyi Normal College'\n",
              "17348                                    'Zuyd University'\n",
              "17349                                                    ]\n",
              "Name: uni_names, Length: 17350, dtype: object"
            ]
          },
          "metadata": {},
          "execution_count": 34
        }
      ],
      "source": [
        "seriesuniname"
      ]
    },
    {
      "cell_type": "code",
      "execution_count": null,
      "metadata": {
        "id": "Mk6J6W6vGNxU"
      },
      "outputs": [],
      "source": [
        "new_list1 = []\n",
        "for x in seriesuniname:\n",
        "      new_list1.append(x.strip())\n",
        "\n",
        "df8= new_list1"
      ]
    },
    {
      "cell_type": "code",
      "execution_count": null,
      "metadata": {
        "colab": {
          "base_uri": "https://localhost:8080/"
        },
        "id": "fJ9QQg_cGZ6Y",
        "outputId": "ae118b1b-13a7-4bda-a17a-296ebb498791"
      },
      "outputs": [
        {
          "output_type": "execute_result",
          "data": {
            "text/html": [
              "\n",
              "  <div id=\"df-53b9a503-ee2d-4abf-ba30-c2b60f5568a7\">\n",
              "    <div class=\"colab-df-container\">\n",
              "      <div>\n",
              "<style scoped>\n",
              "    .dataframe tbody tr th:only-of-type {\n",
              "        vertical-align: middle;\n",
              "    }\n",
              "\n",
              "    .dataframe tbody tr th {\n",
              "        vertical-align: top;\n",
              "    }\n",
              "\n",
              "    .dataframe thead th {\n",
              "        text-align: right;\n",
              "    }\n",
              "</style>\n",
              "<table border=\"1\" class=\"dataframe\">\n",
              "  <thead>\n",
              "    <tr style=\"text-align: right;\">\n",
              "      <th></th>\n",
              "      <th>0</th>\n",
              "    </tr>\n",
              "  </thead>\n",
              "  <tbody>\n",
              "    <tr>\n",
              "      <th>0</th>\n",
              "      <td></td>\n",
              "    </tr>\n",
              "    <tr>\n",
              "      <th>1</th>\n",
              "      <td>Angel Kančev University of Ruse</td>\n",
              "    </tr>\n",
              "    <tr>\n",
              "      <th>2</th>\n",
              "      <td>Baltazar Adam Krčelić College of Business Admi...</td>\n",
              "    </tr>\n",
              "    <tr>\n",
              "      <th>3</th>\n",
              "      <td>Chernorizets Hrabar  Free University of Varna</td>\n",
              "    </tr>\n",
              "    <tr>\n",
              "      <th>4</th>\n",
              "      <td>DA Tsenov Academy of Economics  Svishtov</td>\n",
              "    </tr>\n",
              "    <tr>\n",
              "      <th>...</th>\n",
              "      <td>...</td>\n",
              "    </tr>\n",
              "    <tr>\n",
              "      <th>17345</th>\n",
              "      <td>Zumbi dos Palmares Faculty</td>\n",
              "    </tr>\n",
              "    <tr>\n",
              "      <th>17346</th>\n",
              "      <td>Zunyi Medical College</td>\n",
              "    </tr>\n",
              "    <tr>\n",
              "      <th>17347</th>\n",
              "      <td>Zunyi Normal College</td>\n",
              "    </tr>\n",
              "    <tr>\n",
              "      <th>17348</th>\n",
              "      <td>Zuyd University</td>\n",
              "    </tr>\n",
              "    <tr>\n",
              "      <th>17349</th>\n",
              "      <td></td>\n",
              "    </tr>\n",
              "  </tbody>\n",
              "</table>\n",
              "<p>17350 rows × 1 columns</p>\n",
              "</div>\n",
              "      <button class=\"colab-df-convert\" onclick=\"convertToInteractive('df-53b9a503-ee2d-4abf-ba30-c2b60f5568a7')\"\n",
              "              title=\"Convert this dataframe to an interactive table.\"\n",
              "              style=\"display:none;\">\n",
              "        \n",
              "  <svg xmlns=\"http://www.w3.org/2000/svg\" height=\"24px\"viewBox=\"0 0 24 24\"\n",
              "       width=\"24px\">\n",
              "    <path d=\"M0 0h24v24H0V0z\" fill=\"none\"/>\n",
              "    <path d=\"M18.56 5.44l.94 2.06.94-2.06 2.06-.94-2.06-.94-.94-2.06-.94 2.06-2.06.94zm-11 1L8.5 8.5l.94-2.06 2.06-.94-2.06-.94L8.5 2.5l-.94 2.06-2.06.94zm10 10l.94 2.06.94-2.06 2.06-.94-2.06-.94-.94-2.06-.94 2.06-2.06.94z\"/><path d=\"M17.41 7.96l-1.37-1.37c-.4-.4-.92-.59-1.43-.59-.52 0-1.04.2-1.43.59L10.3 9.45l-7.72 7.72c-.78.78-.78 2.05 0 2.83L4 21.41c.39.39.9.59 1.41.59.51 0 1.02-.2 1.41-.59l7.78-7.78 2.81-2.81c.8-.78.8-2.07 0-2.86zM5.41 20L4 18.59l7.72-7.72 1.47 1.35L5.41 20z\"/>\n",
              "  </svg>\n",
              "      </button>\n",
              "      \n",
              "  <style>\n",
              "    .colab-df-container {\n",
              "      display:flex;\n",
              "      flex-wrap:wrap;\n",
              "      gap: 12px;\n",
              "    }\n",
              "\n",
              "    .colab-df-convert {\n",
              "      background-color: #E8F0FE;\n",
              "      border: none;\n",
              "      border-radius: 50%;\n",
              "      cursor: pointer;\n",
              "      display: none;\n",
              "      fill: #1967D2;\n",
              "      height: 32px;\n",
              "      padding: 0 0 0 0;\n",
              "      width: 32px;\n",
              "    }\n",
              "\n",
              "    .colab-df-convert:hover {\n",
              "      background-color: #E2EBFA;\n",
              "      box-shadow: 0px 1px 2px rgba(60, 64, 67, 0.3), 0px 1px 3px 1px rgba(60, 64, 67, 0.15);\n",
              "      fill: #174EA6;\n",
              "    }\n",
              "\n",
              "    [theme=dark] .colab-df-convert {\n",
              "      background-color: #3B4455;\n",
              "      fill: #D2E3FC;\n",
              "    }\n",
              "\n",
              "    [theme=dark] .colab-df-convert:hover {\n",
              "      background-color: #434B5C;\n",
              "      box-shadow: 0px 1px 3px 1px rgba(0, 0, 0, 0.15);\n",
              "      filter: drop-shadow(0px 1px 2px rgba(0, 0, 0, 0.3));\n",
              "      fill: #FFFFFF;\n",
              "    }\n",
              "  </style>\n",
              "\n",
              "      <script>\n",
              "        const buttonEl =\n",
              "          document.querySelector('#df-53b9a503-ee2d-4abf-ba30-c2b60f5568a7 button.colab-df-convert');\n",
              "        buttonEl.style.display =\n",
              "          google.colab.kernel.accessAllowed ? 'block' : 'none';\n",
              "\n",
              "        async function convertToInteractive(key) {\n",
              "          const element = document.querySelector('#df-53b9a503-ee2d-4abf-ba30-c2b60f5568a7');\n",
              "          const dataTable =\n",
              "            await google.colab.kernel.invokeFunction('convertToInteractive',\n",
              "                                                     [key], {});\n",
              "          if (!dataTable) return;\n",
              "\n",
              "          const docLinkHtml = 'Like what you see? Visit the ' +\n",
              "            '<a target=\"_blank\" href=https://colab.research.google.com/notebooks/data_table.ipynb>data table notebook</a>'\n",
              "            + ' to learn more about interactive tables.';\n",
              "          element.innerHTML = '';\n",
              "          dataTable['output_type'] = 'display_data';\n",
              "          await google.colab.output.renderOutput(dataTable, element);\n",
              "          const docLink = document.createElement('div');\n",
              "          docLink.innerHTML = docLinkHtml;\n",
              "          element.appendChild(docLink);\n",
              "        }\n",
              "      </script>\n",
              "    </div>\n",
              "  </div>\n",
              "  "
            ],
            "text/plain": [
              "                                                       0\n",
              "0                                                       \n",
              "1                        Angel Kančev University of Ruse\n",
              "2      Baltazar Adam Krčelić College of Business Admi...\n",
              "3          Chernorizets Hrabar  Free University of Varna\n",
              "4               DA Tsenov Academy of Economics  Svishtov\n",
              "...                                                  ...\n",
              "17345                         Zumbi dos Palmares Faculty\n",
              "17346                              Zunyi Medical College\n",
              "17347                               Zunyi Normal College\n",
              "17348                                    Zuyd University\n",
              "17349                                                   \n",
              "\n",
              "[17350 rows x 1 columns]"
            ]
          },
          "metadata": {},
          "execution_count": 36
        }
      ],
      "source": [
        "uninamesnopunct=pd.DataFrame(remove_punct(df8))\n",
        "uninamesnopunct"
      ]
    },
    {
      "cell_type": "code",
      "execution_count": null,
      "metadata": {
        "colab": {
          "base_uri": "https://localhost:8080/"
        },
        "id": "kAxaAAOsF-at",
        "outputId": "c2f2d7cd-addc-4dc7-d993-d8da416aee1b"
      },
      "outputs": [
        {
          "output_type": "execute_result",
          "data": {
            "text/html": [
              "\n",
              "  <div id=\"df-4481ecff-393d-47a9-8e5d-6c8d91d321c5\">\n",
              "    <div class=\"colab-df-container\">\n",
              "      <div>\n",
              "<style scoped>\n",
              "    .dataframe tbody tr th:only-of-type {\n",
              "        vertical-align: middle;\n",
              "    }\n",
              "\n",
              "    .dataframe tbody tr th {\n",
              "        vertical-align: top;\n",
              "    }\n",
              "\n",
              "    .dataframe thead th {\n",
              "        text-align: right;\n",
              "    }\n",
              "</style>\n",
              "<table border=\"1\" class=\"dataframe\">\n",
              "  <thead>\n",
              "    <tr style=\"text-align: right;\">\n",
              "      <th></th>\n",
              "      <th>UniNames</th>\n",
              "    </tr>\n",
              "  </thead>\n",
              "  <tbody>\n",
              "    <tr>\n",
              "      <th>1</th>\n",
              "      <td>Angel Kančev University of Ruse</td>\n",
              "    </tr>\n",
              "    <tr>\n",
              "      <th>2</th>\n",
              "      <td>Baltazar Adam Krčelić College of Business Admi...</td>\n",
              "    </tr>\n",
              "    <tr>\n",
              "      <th>3</th>\n",
              "      <td>Chernorizets Hrabar  Free University of Varna</td>\n",
              "    </tr>\n",
              "    <tr>\n",
              "      <th>4</th>\n",
              "      <td>DA Tsenov Academy of Economics  Svishtov</td>\n",
              "    </tr>\n",
              "    <tr>\n",
              "      <th>5</th>\n",
              "      <td>George Barițiu University</td>\n",
              "    </tr>\n",
              "    <tr>\n",
              "      <th>...</th>\n",
              "      <td>...</td>\n",
              "    </tr>\n",
              "    <tr>\n",
              "      <th>17344</th>\n",
              "      <td>Zugdidi Teaching University</td>\n",
              "    </tr>\n",
              "    <tr>\n",
              "      <th>17345</th>\n",
              "      <td>Zumbi dos Palmares Faculty</td>\n",
              "    </tr>\n",
              "    <tr>\n",
              "      <th>17346</th>\n",
              "      <td>Zunyi Medical College</td>\n",
              "    </tr>\n",
              "    <tr>\n",
              "      <th>17347</th>\n",
              "      <td>Zunyi Normal College</td>\n",
              "    </tr>\n",
              "    <tr>\n",
              "      <th>17348</th>\n",
              "      <td>Zuyd University</td>\n",
              "    </tr>\n",
              "  </tbody>\n",
              "</table>\n",
              "<p>17348 rows × 1 columns</p>\n",
              "</div>\n",
              "      <button class=\"colab-df-convert\" onclick=\"convertToInteractive('df-4481ecff-393d-47a9-8e5d-6c8d91d321c5')\"\n",
              "              title=\"Convert this dataframe to an interactive table.\"\n",
              "              style=\"display:none;\">\n",
              "        \n",
              "  <svg xmlns=\"http://www.w3.org/2000/svg\" height=\"24px\"viewBox=\"0 0 24 24\"\n",
              "       width=\"24px\">\n",
              "    <path d=\"M0 0h24v24H0V0z\" fill=\"none\"/>\n",
              "    <path d=\"M18.56 5.44l.94 2.06.94-2.06 2.06-.94-2.06-.94-.94-2.06-.94 2.06-2.06.94zm-11 1L8.5 8.5l.94-2.06 2.06-.94-2.06-.94L8.5 2.5l-.94 2.06-2.06.94zm10 10l.94 2.06.94-2.06 2.06-.94-2.06-.94-.94-2.06-.94 2.06-2.06.94z\"/><path d=\"M17.41 7.96l-1.37-1.37c-.4-.4-.92-.59-1.43-.59-.52 0-1.04.2-1.43.59L10.3 9.45l-7.72 7.72c-.78.78-.78 2.05 0 2.83L4 21.41c.39.39.9.59 1.41.59.51 0 1.02-.2 1.41-.59l7.78-7.78 2.81-2.81c.8-.78.8-2.07 0-2.86zM5.41 20L4 18.59l7.72-7.72 1.47 1.35L5.41 20z\"/>\n",
              "  </svg>\n",
              "      </button>\n",
              "      \n",
              "  <style>\n",
              "    .colab-df-container {\n",
              "      display:flex;\n",
              "      flex-wrap:wrap;\n",
              "      gap: 12px;\n",
              "    }\n",
              "\n",
              "    .colab-df-convert {\n",
              "      background-color: #E8F0FE;\n",
              "      border: none;\n",
              "      border-radius: 50%;\n",
              "      cursor: pointer;\n",
              "      display: none;\n",
              "      fill: #1967D2;\n",
              "      height: 32px;\n",
              "      padding: 0 0 0 0;\n",
              "      width: 32px;\n",
              "    }\n",
              "\n",
              "    .colab-df-convert:hover {\n",
              "      background-color: #E2EBFA;\n",
              "      box-shadow: 0px 1px 2px rgba(60, 64, 67, 0.3), 0px 1px 3px 1px rgba(60, 64, 67, 0.15);\n",
              "      fill: #174EA6;\n",
              "    }\n",
              "\n",
              "    [theme=dark] .colab-df-convert {\n",
              "      background-color: #3B4455;\n",
              "      fill: #D2E3FC;\n",
              "    }\n",
              "\n",
              "    [theme=dark] .colab-df-convert:hover {\n",
              "      background-color: #434B5C;\n",
              "      box-shadow: 0px 1px 3px 1px rgba(0, 0, 0, 0.15);\n",
              "      filter: drop-shadow(0px 1px 2px rgba(0, 0, 0, 0.3));\n",
              "      fill: #FFFFFF;\n",
              "    }\n",
              "  </style>\n",
              "\n",
              "      <script>\n",
              "        const buttonEl =\n",
              "          document.querySelector('#df-4481ecff-393d-47a9-8e5d-6c8d91d321c5 button.colab-df-convert');\n",
              "        buttonEl.style.display =\n",
              "          google.colab.kernel.accessAllowed ? 'block' : 'none';\n",
              "\n",
              "        async function convertToInteractive(key) {\n",
              "          const element = document.querySelector('#df-4481ecff-393d-47a9-8e5d-6c8d91d321c5');\n",
              "          const dataTable =\n",
              "            await google.colab.kernel.invokeFunction('convertToInteractive',\n",
              "                                                     [key], {});\n",
              "          if (!dataTable) return;\n",
              "\n",
              "          const docLinkHtml = 'Like what you see? Visit the ' +\n",
              "            '<a target=\"_blank\" href=https://colab.research.google.com/notebooks/data_table.ipynb>data table notebook</a>'\n",
              "            + ' to learn more about interactive tables.';\n",
              "          element.innerHTML = '';\n",
              "          dataTable['output_type'] = 'display_data';\n",
              "          await google.colab.output.renderOutput(dataTable, element);\n",
              "          const docLink = document.createElement('div');\n",
              "          docLink.innerHTML = docLinkHtml;\n",
              "          element.appendChild(docLink);\n",
              "        }\n",
              "      </script>\n",
              "    </div>\n",
              "  </div>\n",
              "  "
            ],
            "text/plain": [
              "                                                UniNames\n",
              "1                        Angel Kančev University of Ruse\n",
              "2      Baltazar Adam Krčelić College of Business Admi...\n",
              "3          Chernorizets Hrabar  Free University of Varna\n",
              "4               DA Tsenov Academy of Economics  Svishtov\n",
              "5                              George Barițiu University\n",
              "...                                                  ...\n",
              "17344                        Zugdidi Teaching University\n",
              "17345                         Zumbi dos Palmares Faculty\n",
              "17346                              Zunyi Medical College\n",
              "17347                               Zunyi Normal College\n",
              "17348                                    Zuyd University\n",
              "\n",
              "[17348 rows x 1 columns]"
            ]
          },
          "metadata": {},
          "execution_count": 37
        }
      ],
      "source": [
        "uninamesnopunct.replace([\"\"], np.nan, inplace=True)\n",
        "cleanuninames=uninamesnopunct.dropna()\n",
        "cleanuninames.columns=['UniNames']\n",
        "cleanuninames"
      ]
    },
    {
      "cell_type": "code",
      "source": [
        "#Save cleaned scraped uni list\n",
        "\n",
        "cleanuninames.to_csv('cleanuninames.csv')"
      ],
      "metadata": {
        "id": "6kYRLtBgQjVM"
      },
      "execution_count": null,
      "outputs": []
    }
  ],
  "metadata": {
    "colab": {
      "collapsed_sections": [
        "Iwp4zdn1p4s7",
        "RSwpOJJI2DVY",
        "vfohL36xLo8z"
      ],
      "name": "University Names - Cleaning",
      "provenance": []
    },
    "kernelspec": {
      "display_name": "Python 3",
      "name": "python3"
    },
    "language_info": {
      "name": "python"
    }
  },
  "nbformat": 4,
  "nbformat_minor": 0
}
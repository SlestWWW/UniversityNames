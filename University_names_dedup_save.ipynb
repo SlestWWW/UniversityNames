{
  "cells": [
    {
      "cell_type": "markdown",
      "source": [
        "##Import dependencies"
      ],
      "metadata": {
        "id": "8fia3jCCQ6x5"
      }
    },
    {
      "cell_type": "code",
      "execution_count": null,
      "metadata": {
        "id": "KQbrjUqf3BUZ"
      },
      "outputs": [],
      "source": [
        "import pandas as pd\n",
        "import numpy as np\n",
        "import pickle"
      ]
    },
    {
      "cell_type": "markdown",
      "metadata": {
        "id": "gWVjfsLM6l9d"
      },
      "source": [
        "##Cleaning school names from the dataset"
      ]
    },
    {
      "cell_type": "code",
      "execution_count": null,
      "metadata": {
        "id": "796HmiUiAPfA"
      },
      "outputs": [],
      "source": [
        "df = pd.read_parquet('/content/ct_job_app_education.parquet')"
      ]
    },
    {
      "cell_type": "code",
      "execution_count": null,
      "metadata": {
        "id": "k0tX9PAbAPfB"
      },
      "outputs": [],
      "source": [
        "df1=df['school_name'].fillna('').str.upper().sort_values()"
      ]
    },
    {
      "cell_type": "code",
      "execution_count": null,
      "metadata": {
        "id": "yf3D2iokAPfB"
      },
      "outputs": [],
      "source": [
        "new_list = []\n",
        "for x in df1:\n",
        "      new_list.append(x.strip())\n",
        "\n",
        "df1= new_list"
      ]
    },
    {
      "cell_type": "code",
      "execution_count": null,
      "metadata": {
        "id": "FhaLYDSLAPfB"
      },
      "outputs": [],
      "source": [
        "import re\n",
        "def remove_punct(text):\n",
        "    new_words = []\n",
        "    for word in text:\n",
        "        w = re.sub(r'[^\\w\\s]','',word) #remove everything except words and space\n",
        "        w = re.sub(r'_','',w) #how to remove underscore as well\n",
        "        new_words.append(w)\n",
        "    return new_words"
      ]
    },
    {
      "cell_type": "code",
      "execution_count": null,
      "metadata": {
        "id": "Za1CAJq8APfC"
      },
      "outputs": [],
      "source": [
        "school_namedf = pd.DataFrame(remove_punct(df1))\n",
        "#school_namedf['school_name'] = pd.DataFrame(remove_punct(df1))"
      ]
    },
    {
      "cell_type": "code",
      "execution_count": null,
      "metadata": {
        "id": "KEQFaZWgAPfC"
      },
      "outputs": [],
      "source": [
        "school_namedf.replace([\"\",\" \",\"OTHER\", \"OTHERS\"], np.nan, inplace=True)\n"
      ]
    },
    {
      "cell_type": "code",
      "execution_count": null,
      "metadata": {
        "id": "wip5xwH4APfC"
      },
      "outputs": [],
      "source": [
        "school_namedf_na=school_namedf.dropna()"
      ]
    },
    {
      "cell_type": "code",
      "execution_count": null,
      "metadata": {
        "id": "Dbl11hZfAPfC"
      },
      "outputs": [],
      "source": [
        "school_namedf_na=school_namedf_na.replace(\"ACCA\", \"ASSOCIATION OF CHARTERED CERTIFIED ACCOUNTANTS\")\n",
        "school_namedf_na=school_namedf_na.replace(\"APU\", \"ASIA PACIFIC UNIVERSITY OF TECHNOLOGY AND INNOVATION\")\n",
        "school_namedf_na=school_namedf_na.replace(\"AMIK\", \"AMIK BINA SARANA INFORMATIKAAPU\")\n",
        "school_namedf_na=school_namedf_na.replace(\"BSI\", \"UNIVERSITAS BINA SARANA INFORMATIKA\")\n",
        "school_namedf_na=school_namedf_na.replace(\"FKIP\", \"FKIP BAHASA INGGRIS\")\n",
        "school_namedf_na=school_namedf_na.replace(\"FPT\", \"FPT UNIVERSITY\")\n",
        "school_namedf_na=school_namedf_na.replace(\"GCUF\", \"GOVERNMENT COLLEGE UNIVERSITY FAISALABAD\")\n",
        "school_namedf_na=school_namedf_na.replace(\"GIKI\", \"GHULAM ISHAQ KHAN INSTITUTE\")\n",
        "school_namedf_na=school_namedf_na.replace(\"I3L\", \"INDONESIA INTERNATIONAL INSTITUTE FOR LIFE SCIENCES\")\n",
        "school_namedf_na=school_namedf_na.replace(\"IAIN\", \"INSTITUT AGAMA ISLAM NEGERI\")\n",
        "school_namedf_na=school_namedf_na.replace(\"IBA\", \"UNIVERSITY IBA\")\n",
        "school_namedf_na=school_namedf_na.replace(\"IBBI\", \"SEKOLAH TINGGI ILMU EKONOMI\")\n",
        "school_namedf_na=school_namedf_na.replace(\"IBM\", \"IBM ASMI\")\n",
        "school_namedf_na=school_namedf_na.replace(\"ICBS\", \"IMPERIAL COLLEGE OF BUSINESS STUDIES\")\n",
        "school_namedf_na=school_namedf_na.replace(\"IIEE\", \"IIEE NED UNIVERSITY OF ENGINEERING AND TECHNOLOGY\")\n",
        "school_namedf_na=school_namedf_na.replace(\"IIUM\", \"INTERNATIONAL ISLAMIC UNIVERSITY MALAYSIA\")\n",
        "school_namedf_na=school_namedf_na.replace(\"INTI\", \"INTI INTERNATIONAL COLLEGE\")\n",
        "school_namedf_na=school_namedf_na.replace(\"IPA\", \"INSTITUTE OF PUBLIC ADMINISTRATION\")\n",
        "school_namedf_na=school_namedf_na.replace(\"IPB\", \"INSTITUT PERTANIAN BOGOR\")\n",
        "school_namedf_na=school_namedf_na.replace(\"ITB\", \"BANDUNG INSTITUTE OF TECHNOLOGHY\")\n",
        "school_namedf_na=school_namedf_na.replace(\"ITNY\", \"INSTITUT TEKNOLOGI NASIONAL YOGYAKARTA\")\n",
        "school_namedf_na=school_namedf_na.replace(\"ITS\", \"INSTITUT SEPULUH NOPEMBER\")\n",
        "school_namedf_na=school_namedf_na.replace(\"IUMW\", \"INTERNATIONAL UNIVERSITY OF MALAYAWALES\")\n",
        "school_namedf_na=school_namedf_na.replace(\"KPTM\", \"KOLEJ POLYTECH MARA\")\n",
        "school_namedf_na=school_namedf_na.replace(\"LP31\", \"LP3I COLLEGE\")\n",
        "school_namedf_na=school_namedf_na.replace(\"LSC\", \"LONDON SCHOOL OF COMMERCE\")\n",
        "school_namedf_na=school_namedf_na.replace(\"LSPR\", \"LONDON SCHOOL OF PUBLIC RELATIONS\")\n",
        "school_namedf_na=school_namedf_na.replace(\"MCHM\", \"MALAYSIAN COLLEGE OF HOSPITALITY AND MANAGEMENT\")\n",
        "school_namedf_na=school_namedf_na.replace(\"MMU\", \"MULTIMEDIA UNIVERSITY\")\n",
        "school_namedf_na=school_namedf_na.replace(\"MSU\", \"MANAGEMENT SCIENCE UNIVERSITY\")\n",
        "school_namedf_na=school_namedf_na.replace(\"NED\", \"NED UNIVERSITY OF ENGINEERING AND TECHNOLOGY\")\n",
        "school_namedf_na=school_namedf_na.replace(\"NTU\", \"NANYANG TECHNOLOGICAL UNIVERSITY\")\n",
        "school_namedf_na=school_namedf_na.replace(\"NUS\", \"NATIONAL UNIVERSITY OF SINGAPORE\")\n",
        "school_namedf_na=school_namedf_na.replace(\"NUST\", \"NATIONAL UNIVERSITY OF SCIENCE AND TECHNOLOGY NUST\")\n",
        "school_namedf_na=school_namedf_na.replace(\"PENS\", \"ELECTRONIC ENGINEERING POLYTECHNIC INSTITUTE OF SURABAYA\")\n",
        "school_namedf_na=school_namedf_na.replace(\"PVU\", \"TRƯỜNG ĐẠI HỌC\")\n",
        "school_namedf_na=school_namedf_na.replace(\"RMIT\", \"ROYAL MELBOURNE INSTITUTE OF TECHNOLOGY\")\n",
        "school_namedf_na=school_namedf_na.replace(\"SEGI\", \"SEGI COLLEGE\")\n",
        "school_namedf_na=school_namedf_na.replace(\"STIA\", \"SEKOLAH TINGGI ILMU ADMINISTRASI\")\n",
        "school_namedf_na=school_namedf_na.replace(\"STIE\", \"SEKOLAH TINGGI ILMU EKONOMI\")\n",
        "school_namedf_na=school_namedf_na.replace(\"SWUC\", \"SOUTHWESTERN CHRISTIAN UNIVERSITY\")\n",
        "school_namedf_na=school_namedf_na.replace(\"UBSI\", \"UNIVERSITAS BINA SARANA INFORMATIKA\")\n",
        "school_namedf_na=school_namedf_na.replace(\"UCSI\", \"UCSI UNIVERISTY\")\n",
        "school_namedf_na=school_namedf_na.replace(\"UEF\", \"ĐẠI HỌC KINH TẾ QUỐC DÂN\")\n",
        "school_namedf_na=school_namedf_na.replace(\"UEH\", \"UNIVERSITY OF ECONOMICS HCMC\")\n",
        "school_namedf_na=school_namedf_na.replace(\"UEL\", \"UNIVERSITY OF EAST LONDON\")\n",
        "school_namedf_na=school_namedf_na.replace(\"UGM\", \"GADJAH MADA UNIVERSITY\")\n",
        "school_namedf_na=school_namedf_na.replace(\"UIAM\", \"UNIVERSITI ISLAM ANTARABANGSA MALAYSIA\")\n",
        "school_namedf_na=school_namedf_na.replace(\"UII\", \"UNIVERSITY ISLAM INDONESIA\")\n",
        "school_namedf_na=school_namedf_na.replace(\"UITM\", \"MARA UNIVERSITY OF TECHNOLOGY MALAYSIA\")\n",
        "school_namedf_na=school_namedf_na.replace(\"UKI\", \"UNIVERSITY KRISTEN INDONESIA\")\n",
        "school_namedf_na=school_namedf_na.replace(\"UKM\", \"NATIONAL UNIVERSITY OF MALAYSIA\")\n",
        "school_namedf_na=school_namedf_na.replace(\"UM\", \"UNIVERSITY OF MALAYA\")\n",
        "school_namedf_na=school_namedf_na.replace(\"UMJ\", \"UNIVERSITAS MUHAMMADIYAH JAKARTA\")\n",
        "school_namedf_na=school_namedf_na.replace(\"UMM\", \"UNIVERSITY OF MALAYA\")\n",
        "school_namedf_na=school_namedf_na.replace(\"UMP\", \"UNIVERSITY MALAYSIA PAHANG\")\n",
        "school_namedf_na=school_namedf_na.replace(\"UMSU\", \"UNIVERSITY MUHAMMADIYAH SUMATERA UTARA\")\n",
        "school_namedf_na=school_namedf_na.replace(\"UMT\", \"UNIVERSITI MALAYSIA TERENGGANU\")\n",
        "school_namedf_na=school_namedf_na.replace(\"UMY\", \"UNIVERSITY MUHAMMADIYAH YOGYAKARTA\")\n",
        "school_namedf_na=school_namedf_na.replace(\"UNS\", \"SEBELAS MARET UNIVERSITY\")\n",
        "school_namedf_na=school_namedf_na.replace(\"UNSW\", \"UNIVERSITY OF NEW SOUTH WALES\")\n",
        "school_namedf_na=school_namedf_na.replace(\"UNY\", \"UNIVERSITAS NEGERI YOGYAKARTA\")\n",
        "school_namedf_na=school_namedf_na.replace(\"UOL\", \"UNIVERSITY OF LONDON\")\n",
        "school_namedf_na=school_namedf_na.replace(\"UPH\", \"PELITA HARAPAN UNIVERSITY\")\n",
        "school_namedf_na=school_namedf_na.replace(\"UPI\", \"UNIVERSITY PENDIDIKAN INDONESIA\")\n",
        "school_namedf_na=school_namedf_na.replace(\"UPM\", \"UNIVERSITY PUTRA MALAYSIA\")\n",
        "school_namedf_na=school_namedf_na.replace(\"UPNM\", \"UNIVERSITI PERTAHANAN NASIONAL MALAYSIA\")\n",
        "school_namedf_na=school_namedf_na.replace(\"USIM\", \"UNIVERSITI SAINS ISLAM MALAYSIA\")\n",
        "school_namedf_na=school_namedf_na.replace(\"USM\", \"UNIVERSITI SAINS MALAYSIA\")\n",
        "school_namedf_na=school_namedf_na.replace(\"USU\", \"UNIVERSITY SUMATERA UTARA\")\n",
        "school_namedf_na=school_namedf_na.replace(\"UTAR\", \"UNIVERSITY TUNKU ABDUL RAHMAN\")\n",
        "school_namedf_na=school_namedf_na.replace(\"UTEM\", \"UNIVERSITI TEKNIKAL MALAYSIA MELAKA\")\n",
        "school_namedf_na=school_namedf_na.replace(\"UTHM\", \"UNIVERSITY TUN HUSSEIN ONN MALAYSIA\")\n",
        "school_namedf_na=school_namedf_na.replace(\"UTM\", \"UNIVERSITY TEKNOLOGI MALAYSIA\")\n",
        "school_namedf_na=school_namedf_na.replace(\"UTP\", \"UNIVERSITI TEKNOLOGI PETRONAS\")\n",
        "school_namedf_na=school_namedf_na.replace(\"UUM\", \"UNIVERSITY UTARA MALAYSIA\")\n",
        "school_namedf_na=school_namedf_na.replace(\"YAI\", \"AKADEMI AKUNTANSI YAI\")"
      ]
    },
    {
      "cell_type": "code",
      "execution_count": null,
      "metadata": {
        "id": "86HquPG7APfI"
      },
      "outputs": [],
      "source": [
        "transform_list=['BINA NUNSATARA UNIVERSITY', \n",
        "                'BINA NUSANTARA', \n",
        "                'BINA NUSANTARA BINUS', \n",
        "                'BINA NUSANTARA BINUS UNIVERSITY', \n",
        "                'BINA NUSANTARA BUSINESS SCHOOL',\n",
        "                'BINA NUSANTARA INTERNATIONAL UNIVERSITY',\n",
        "                'BINA NUSANTARA INTERNATIONAL UNIVERSITY CBS INTERNATIONAL BUSINESS SCHOOL',\n",
        "                'BINA NUSANTARA UNIVERCITY',\n",
        "                'BINA NUSANTARA UNIVERISTY',\n",
        "                'BINA NUSANTARA UNIVERSIRY',\n",
        "                'BINA NUSANTARA UNIVERSITY',\n",
        "                'BINA NUSANTARA UNIVERSITY BINUS UNIVERSITY',\n",
        "                'BINA NUSANTARA UNIVERSITY BINUS']\n",
        "\n",
        "for i in school_namedf_na:\n",
        "  for i in transform_list:\n",
        "    school_namedf_na=school_namedf_na.replace(i, 'BINUS UNIVERSITY')   \n",
        "                 "
      ]
    },
    {
      "cell_type": "code",
      "execution_count": null,
      "metadata": {
        "id": "MGYQU82nAPfI"
      },
      "outputs": [],
      "source": [
        "#Remove string length < 5\n",
        "school_namedf_na = school_namedf_na[school_namedf_na[0].str.len() > 5]\n",
        "school_namedf_na"
      ]
    },
    {
      "cell_type": "code",
      "source": [
        "school_name_list = school_namedf_na.iloc[:,0].values.tolist()\n",
        "school_name_list"
      ],
      "metadata": {
        "id": "YmgRvFGekCx3"
      },
      "execution_count": null,
      "outputs": []
    },
    {
      "cell_type": "code",
      "source": [
        "z = []\n",
        "cool = []\n",
        "for x in school_name_list:\n",
        "  z.append(x.split())\n",
        "\n",
        "for i in range(len(z)):\n",
        "  if len(z[i]) == 0:\n",
        "    continue\n",
        "  \n",
        "  if z[i][0].endswith('ITAS'):\n",
        "    cool.append(' '.join(['UNIVERSITY'] + z[i][1:]))\n",
        "  else:\n",
        "    cool.append(' '.join(z[i][0:]))\n",
        "cool"
      ],
      "metadata": {
        "id": "fpJ88A5qkWm8"
      },
      "execution_count": null,
      "outputs": []
    },
    {
      "cell_type": "code",
      "source": [
        "school_name = pd.DataFrame(cool)\n",
        "school_name.columns=['school_name']"
      ],
      "metadata": {
        "id": "ptNDqHWIkedV"
      },
      "execution_count": null,
      "outputs": []
    },
    {
      "cell_type": "code",
      "source": [
        "unique_list=pd.DataFrame(school_name['school_name'].unique())\n",
        "unique_list.columns=['school_names']\n",
        "unique_list"
      ],
      "metadata": {
        "id": "pRI4WUPUkrwK"
      },
      "execution_count": null,
      "outputs": []
    },
    {
      "cell_type": "code",
      "source": [
        "#Save cleaned names to a csv\n",
        "\n",
        "unique_list.to_csv('unique_list.csv')"
      ],
      "metadata": {
        "id": "qDLwEpXsAPfJ"
      },
      "execution_count": null,
      "outputs": []
    },
    {
      "cell_type": "markdown",
      "metadata": {
        "id": "2-0u5DyfKLcl"
      },
      "source": [
        "##Clean the scraped list of unis\n"
      ]
    },
    {
      "cell_type": "code",
      "execution_count": null,
      "metadata": {
        "id": "wkuliMZgDtVO"
      },
      "outputs": [],
      "source": [
        "uniname = pd.read_csv('/content/universities_list.txt', delimiter =\",\", header=None, names=[\"uni_names\"])\n",
        "#listuniname = pd.DataFrame(remove_punct(listuniname))"
      ]
    },
    {
      "cell_type": "code",
      "execution_count": null,
      "metadata": {
        "id": "bTbCqzUNEnfW"
      },
      "outputs": [],
      "source": [
        "seriesuniname=uniname.squeeze()\n",
        "#remove_punct(listuniname)"
      ]
    },
    {
      "cell_type": "code",
      "execution_count": null,
      "metadata": {
        "id": "o92I3MzaIDCf"
      },
      "outputs": [],
      "source": [
        "seriesuniname"
      ]
    },
    {
      "cell_type": "code",
      "execution_count": null,
      "metadata": {
        "id": "Mk6J6W6vGNxU"
      },
      "outputs": [],
      "source": [
        "new_list1 = []\n",
        "for x in seriesuniname:\n",
        "      new_list1.append(x.strip())\n",
        "\n",
        "df8= new_list1"
      ]
    },
    {
      "cell_type": "code",
      "execution_count": null,
      "metadata": {
        "id": "fJ9QQg_cGZ6Y"
      },
      "outputs": [],
      "source": [
        "uninamesnopunct=pd.DataFrame(remove_punct(df8))\n",
        "uninamesnopunct"
      ]
    },
    {
      "cell_type": "code",
      "execution_count": null,
      "metadata": {
        "id": "kAxaAAOsF-at"
      },
      "outputs": [],
      "source": [
        "uninamesnopunct.replace([\"\"], np.nan, inplace=True)\n",
        "cleanuninames=uninamesnopunct.dropna()\n",
        "cleanuninames.columns=['UniNames']\n",
        "cleanuninames"
      ]
    },
    {
      "cell_type": "code",
      "source": [
        "#Save cleaned scraped uni list\n",
        "\n",
        "cleanuninames.to_csv('cleanuninames.csv')"
      ],
      "metadata": {
        "id": "6kYRLtBgQjVM"
      },
      "execution_count": null,
      "outputs": []
    },
    {
      "cell_type": "markdown",
      "source": [
        "#Use FuzzyWuzzy only, to match dataset names with list names"
      ],
      "metadata": {
        "id": "ey-HxUBaSmHk"
      }
    },
    {
      "cell_type": "markdown",
      "metadata": {
        "id": "oN6zgdCVCgqp"
      },
      "source": [
        "##FuzzyWuzzy matching the dataset names with scraped list"
      ]
    },
    {
      "cell_type": "code",
      "execution_count": null,
      "metadata": {
        "id": "s7mUVCGNCqfP"
      },
      "outputs": [],
      "source": [
        "!pip install fuzzywuzzy\n",
        "!pip install python-Levenshtein"
      ]
    },
    {
      "cell_type": "code",
      "execution_count": null,
      "metadata": {
        "id": "YiKgO41jCj7n"
      },
      "outputs": [],
      "source": [
        "from fuzzywuzzy import fuzz\n",
        "from tqdm import tqdm"
      ]
    },
    {
      "cell_type": "code",
      "execution_count": null,
      "metadata": {
        "id": "k32jCec6XiNz"
      },
      "outputs": [],
      "source": [
        "data1=unique_list.copy()\n",
        "data2=cleanuninames.copy()\n",
        "name_match = []"
      ]
    },
    {
      "cell_type": "code",
      "execution_count": null,
      "metadata": {
        "id": "aHZi9UgH8Yzr"
      },
      "outputs": [],
      "source": [
        "df1_names = list(unique_list.school_names)\n",
        "df2_match = list(cleanuninames.UniNames)"
      ]
    },
    {
      "cell_type": "code",
      "execution_count": null,
      "metadata": {
        "id": "ArDcwQQ98Gh_"
      },
      "outputs": [],
      "source": [
        "#Defining a function to return the match and similarity score of the fuzz.ratio() scorer. \n",
        "#The function will take in a term(name), list of terms(list_names), and a minimum similarity score(min_score) to return the match. \n",
        "\n",
        "def match_names(name, list_names, min_score=0):\n",
        "  max_score=-1\n",
        "  max_name=''\n",
        "  for x in list_names:\n",
        "    score=fuzz.token_sort_ratio(name, x)\n",
        "    if (score > min_score) & (score > max_score):\n",
        "      max_name = x\n",
        "      max_score = score\n",
        "  return (max_name, max_score)"
      ]
    },
    {
      "cell_type": "code",
      "execution_count": null,
      "metadata": {
        "id": "Mt87yt-D9Y6A"
      },
      "outputs": [],
      "source": [
        "#For loop to create a list of tuples with the first value being the name from the \n",
        "#second dataframe (name to replace) and the second value from the \n",
        "#first dataframe (string replacing the name value). Then, casting the list of tuples as a dictionary. \n",
        "\n",
        "names = []\n",
        "for x in tqdm(df1_names):\n",
        "  match = match_names(x, df2_match, 75)\n",
        "  if match[1] >=75:\n",
        "    name = (str(x), str(match[0]))\n",
        "    names.append(name)\n",
        "    \n",
        "name_dict=dict(names)\n",
        "name_dict\n",
        "  "
      ]
    },
    {
      "cell_type": "code",
      "execution_count": null,
      "metadata": {
        "id": "pvowW57_ZUwa"
      },
      "outputs": [],
      "source": [
        "name_dict.keys()"
      ]
    },
    {
      "cell_type": "code",
      "execution_count": null,
      "metadata": {
        "id": "wU4mLpReI85k"
      },
      "outputs": [],
      "source": [
        "#data10=data1[\"school_names\"].map(name_dict)\n",
        "data10=pd.DataFrame(data1[\"school_names\"].map(name_dict)) #mapping together unique list with the dict\n",
        "data10"
      ]
    },
    {
      "cell_type": "code",
      "execution_count": null,
      "metadata": {
        "id": "hSBzIR0uasCA"
      },
      "outputs": [],
      "source": [
        "fuzz.token_sort_ratio('UNIVERSITY OF KENT','Kent University')"
      ]
    },
    {
      "cell_type": "code",
      "execution_count": null,
      "metadata": {
        "id": "_OJhCZTh8Mgj"
      },
      "outputs": [],
      "source": [
        "#Save dict to a file\n",
        "dictionary = name_dict\n",
        "  \n",
        "try:\n",
        "    geeky_file = open('/content/name_dict.txt', 'wt')\n",
        "    geeky_file.write(str(dictionary))\n",
        "    geeky_file.close()\n",
        "  \n",
        "except:\n",
        "    print(\"Unable to write to file\")"
      ]
    },
    {
      "cell_type": "markdown",
      "metadata": {
        "id": "Fe4jP0eY63b9"
      },
      "source": [
        "##Reading dict .txt files saved from previous run"
      ]
    },
    {
      "cell_type": "code",
      "execution_count": null,
      "metadata": {
        "id": "HDmFoYrJ67Ix"
      },
      "outputs": [],
      "source": [
        "# importing the module\n",
        "import ast\n",
        "  \n",
        "# reading the data from the file\n",
        "with open('/content/name_dict.txt') as f:\n",
        "    data = f.read()\n",
        "  \n",
        "print(\"Data type before reconstruction : \", type(data))\n",
        "      \n",
        "# reconstructing the data as a dictionary\n",
        "name_dict = ast.literal_eval(data)\n",
        "  \n",
        "print(\"Data type after reconstruction : \", type(name_dict))\n",
        "print(name_dict)"
      ]
    },
    {
      "cell_type": "markdown",
      "metadata": {
        "id": "qEw4_noU8flR"
      },
      "source": [
        "##Checking Fuzzy list with unique_list\n"
      ]
    },
    {
      "cell_type": "markdown",
      "source": [
        "I overwrote over this code. Didn't fix it. But it was meant to map Fuzzy Wuzzy list together with the unique list."
      ],
      "metadata": {
        "id": "32dGC8MSAp9n"
      }
    },
    {
      "cell_type": "code",
      "execution_count": null,
      "metadata": {
        "id": "L6yw_B5m8mTq"
      },
      "outputs": [],
      "source": [
        "#data10=data1[\"school_names\"].map(name_dict)\n",
        "data60=pd.DataFrame(deduplipydf[\"school_names\"].map(d_60))\n",
        "data60"
      ]
    },
    {
      "cell_type": "code",
      "execution_count": null,
      "metadata": {
        "id": "AsMSxlsr9FMe"
      },
      "outputs": [],
      "source": [
        "compared_60 = pd.concat([deduplipydf, data60], axis=1, join='inner')\n",
        "compared_60"
      ]
    },
    {
      "cell_type": "code",
      "execution_count": null,
      "metadata": {
        "id": "BOOUmwCDpWDo"
      },
      "outputs": [],
      "source": [
        "compared_60.to_csv(\"combined_65-5.1k.csv\")"
      ]
    },
    {
      "cell_type": "markdown",
      "source": [
        "#Deduplipy attempt\n"
      ],
      "metadata": {
        "id": "gAQvp2n4TUcU"
      }
    },
    {
      "cell_type": "markdown",
      "metadata": {
        "id": "IkTdwfNt-zod"
      },
      "source": [
        "##Deduplipy for clustering school names of dataset\n",
        "\n"
      ]
    },
    {
      "cell_type": "code",
      "execution_count": null,
      "metadata": {
        "id": "bCdqrBbzz_Qw"
      },
      "outputs": [],
      "source": [
        "#https://deduplipy.readthedocs.io/en/latest/api/deduplicator.html\n",
        "!pip install deduplipy"
      ]
    },
    {
      "cell_type": "code",
      "execution_count": null,
      "metadata": {
        "id": "ZxF-ZLoFJyJg"
      },
      "outputs": [],
      "source": [
        "from deduplipy.deduplicator import Deduplicator\n",
        "from thefuzz.fuzz import ratio, partial_ratio, token_set_ratio, token_sort_ratio"
      ]
    },
    {
      "cell_type": "code",
      "execution_count": null,
      "metadata": {
        "id": "nal-qqcwaK7R"
      },
      "outputs": [],
      "source": [
        "#try with uninames with list\n",
        "data1=unique_list.copy()\n",
        "data2=cleanuninames.copy()\n",
        "data2=data2.rename(columns={'UniNames': 'school_names'})\n",
        "df_predict=pd.concat([data1, data2], ignore_index=True)\n",
        "\n",
        "#Couldn't use this before, used too much RAM and crashed"
      ]
    },
    {
      "cell_type": "code",
      "execution_count": null,
      "metadata": {
        "id": "cA3zQkOfXfku"
      },
      "outputs": [],
      "source": [
        "#df_train=cleanuninames.copy()\n",
        "df_predict=unique_list.copy()"
      ]
    },
    {
      "cell_type": "code",
      "execution_count": null,
      "metadata": {
        "id": "SEkaNbUJJ612"
      },
      "outputs": [],
      "source": [
        "field_info = {'school_names':[token_set_ratio,token_sort_ratio]}"
      ]
    },
    {
      "cell_type": "code",
      "execution_count": null,
      "metadata": {
        "id": "GkcafMIoKdPH"
      },
      "outputs": [],
      "source": [
        "myDedupliPy = Deduplicator(field_info=field_info, interaction=True, verbose=1)"
      ]
    },
    {
      "cell_type": "code",
      "execution_count": null,
      "metadata": {
        "id": "wu-V7GgkKipc"
      },
      "outputs": [],
      "source": [
        "myDedupliPy.fit(df_predict)"
      ]
    },
    {
      "cell_type": "code",
      "source": [
        "# save the model to disk\n",
        "\n",
        "filename = 'dedupmodel.sav'\n",
        "pickle.dump(myDedupliPy, open(filename, 'wb'))"
      ],
      "metadata": {
        "id": "94vcrQW9T-7x"
      },
      "execution_count": null,
      "outputs": []
    },
    {
      "cell_type": "code",
      "source": [
        "# load the model from disk\n",
        "\n",
        "myDedupliPy = pickle.load(open(filename, 'rb'))"
      ],
      "metadata": {
        "id": "QNed8M-gWD1o"
      },
      "execution_count": null,
      "outputs": []
    },
    {
      "cell_type": "code",
      "execution_count": null,
      "metadata": {
        "id": "pjBpF0bEKmUF"
      },
      "outputs": [],
      "source": [
        "res = myDedupliPy.predict(df_predict, score_threshold=0.1)\n",
        "res.sort_values('deduplication_id')"
      ]
    },
    {
      "cell_type": "code",
      "execution_count": null,
      "metadata": {
        "id": "PEmNq03TRW-0"
      },
      "outputs": [],
      "source": [
        "res.nunique()"
      ]
    },
    {
      "cell_type": "code",
      "execution_count": null,
      "metadata": {
        "id": "J76stVBTCAMB"
      },
      "outputs": [],
      "source": [
        "res.to_csv('deduplipy.csv')"
      ]
    },
    {
      "cell_type": "markdown",
      "metadata": {
        "id": "Xr6FQDJoD1xJ"
      },
      "source": [
        "##Reading Deduplipy CSV of clusters and match using FuzzyWuzzy with the scraped uni list"
      ]
    },
    {
      "cell_type": "code",
      "execution_count": null,
      "metadata": {
        "id": "_G0mE1UbD5n_"
      },
      "outputs": [],
      "source": [
        "deduplipydf = pd.read_csv('/content/deduplipy.csv', usecols= ['school_names','deduplication_id'])"
      ]
    },
    {
      "cell_type": "code",
      "execution_count": null,
      "metadata": {
        "id": "5Ox9dgzsEdbV"
      },
      "outputs": [],
      "source": [
        "deduplipydf"
      ]
    },
    {
      "cell_type": "code",
      "execution_count": null,
      "metadata": {
        "id": "1kgNh4jrKEXG"
      },
      "outputs": [],
      "source": [
        "deduplipydf1=deduplipydf.groupby('deduplication_id').head(1)"
      ]
    },
    {
      "cell_type": "code",
      "execution_count": null,
      "metadata": {
        "id": "wsfNeqiHIm4_"
      },
      "outputs": [],
      "source": [
        "df1_names = list(deduplipydf1.school_names)\n",
        "df2_match = list(cleanuninames.UniNames)"
      ]
    },
    {
      "cell_type": "code",
      "execution_count": null,
      "metadata": {
        "id": "UgY1P4NBKrOR"
      },
      "outputs": [],
      "source": [
        "#Defining a function to return the match and similarity score of the fuzz.ratio() scorer. \n",
        "#The function will take in a term(name), list of terms(list_names), and a minimum similarity score(min_score) to return the match. \n",
        "\n",
        "def match_names(name, list_names, min_score=0):\n",
        "  max_score=-1\n",
        "  max_name=''\n",
        "  for x in list_names:\n",
        "    score=fuzz.token_sort_ratio(name, x)\n",
        "    if (score > min_score) & (score > max_score):\n",
        "      max_name = x\n",
        "      max_score = score\n",
        "  return (max_name, max_score)"
      ]
    },
    {
      "cell_type": "code",
      "execution_count": null,
      "metadata": {
        "id": "6Qzq06zqKuCb"
      },
      "outputs": [],
      "source": [
        "#For loop to create a list of tuples with the first value being the name from the \n",
        "#second dataframe (name to replace) and the second value from the \n",
        "#first dataframe (string replacing the name value). Then, casting the list of tuples as a dictionary. \n",
        "\n",
        "names = []\n",
        "for x in tqdm(df1_names):\n",
        "  match = match_names(x, df2_match, 71)\n",
        "  if match[1] >= 72:\n",
        "    name = (str(x), str(match[0]))\n",
        "    names.append(name)\n",
        "    \n",
        "dedup_name_dict=dict(names)\n",
        "dedup_name_dict\n",
        "  "
      ]
    },
    {
      "cell_type": "code",
      "execution_count": null,
      "metadata": {
        "id": "FODqmNpnKLo9"
      },
      "outputs": [],
      "source": [
        "#Save dict to a file\n",
        "dictionary = dedup_name_dict\n",
        "  \n",
        "try:\n",
        "    geeky_file = open('/content/dedup_name_dict.txt', 'wt')\n",
        "    geeky_file.write(str(dictionary))\n",
        "    geeky_file.close()\n",
        "  \n",
        "except:\n",
        "    print(\"Unable to write to file\")"
      ]
    },
    {
      "cell_type": "markdown",
      "source": [
        "#Putting back with whole database with matched names"
      ],
      "metadata": {
        "id": "ZHsHAIuFLVN4"
      }
    },
    {
      "cell_type": "markdown",
      "metadata": {
        "id": "xr7icpB-lclt"
      },
      "source": [
        "##Putting it back into the whole database"
      ]
    },
    {
      "cell_type": "code",
      "execution_count": null,
      "metadata": {
        "id": "02t7b39G0XS1"
      },
      "outputs": [],
      "source": [
        "#import the dict files\n",
        "##########\n",
        "# importing the module\n",
        "import ast\n",
        "  \n",
        "# reading the data from the file\n",
        "with open('/content/dedup_name_dict.txt') as f:\n",
        "    data = f.read()\n",
        "  \n",
        "print(\"Data type before reconstruction : \", type(data))\n",
        "      \n",
        "# reconstructing the data as a dictionary\n",
        "dedup_name_dict = ast.literal_eval(data)\n",
        "  \n",
        "print(\"Data type after reconstruction : \", type(dedup_name_dict))\n",
        "print(dedup_name_dict)"
      ]
    },
    {
      "cell_type": "code",
      "execution_count": null,
      "metadata": {
        "id": "_y8hUV8HJ2ja"
      },
      "outputs": [],
      "source": [
        "#Map the dict to the whole unique list\n",
        "\n",
        "whole_unique_list=pd.DataFrame(deduplipydf[\"school_names\"].map(dedup_name_dict))\n",
        "whole_unique_list"
      ]
    },
    {
      "cell_type": "code",
      "execution_count": null,
      "metadata": {
        "id": "cfumpyG8Lk80"
      },
      "outputs": [],
      "source": [
        "#Use this if not from file, straight from name_dict variable\n",
        "whole_unique_list=pd.DataFrame(deduplipydf[\"school_names\"].map(dedup_name_dict))\n",
        "whole_unique_list"
      ]
    },
    {
      "cell_type": "code",
      "execution_count": null,
      "metadata": {
        "id": "oAifIXKJK8D4"
      },
      "outputs": [],
      "source": [
        "#Combine together with uninames + dedup id + newname from unilist\n",
        "\n",
        "compared_df = pd.concat([deduplipydf, whole_unique_list], axis=1, join='inner')\n",
        "compared_df"
      ]
    },
    {
      "cell_type": "code",
      "execution_count": null,
      "metadata": {
        "id": "zH8OlmvcZyzZ"
      },
      "outputs": [],
      "source": [
        "#To put the new names with the correct dedup_id\n",
        "\n",
        "compared_df.columns = ['school_names', 'dedup_id', 'new_name']\n",
        "compared_df=compared_df.drop(['school_names'], axis = 1)\n",
        "compared_df.columns = ['dedup_id', 'school_names']"
      ]
    },
    {
      "cell_type": "code",
      "execution_count": null,
      "metadata": {
        "id": "73lMPA18EVaW"
      },
      "outputs": [],
      "source": [
        "compared_df"
      ]
    },
    {
      "cell_type": "code",
      "execution_count": null,
      "metadata": {
        "id": "7OAmYqz_n5Zr"
      },
      "outputs": [],
      "source": [
        "#Taking back the df before taking unique values \n",
        "#Added 1 more column to assign dedup ID into it\n",
        "\n",
        "school_namedf_na.columns = ['school_names']\n",
        "school_namedf_na['deduplication_id'] = 0"
      ]
    },
    {
      "cell_type": "code",
      "execution_count": null,
      "metadata": {
        "id": "3Nz_MTy-mM06"
      },
      "outputs": [],
      "source": [
        "#To put dedup_id with whole list\n",
        "\n",
        "df1 = school_namedf_na.set_index('school_names')\n",
        "df2 = deduplipydf.set_index('school_names')\n",
        "df1.update(df2)\n",
        "df1.reset_index(inplace=True)"
      ]
    },
    {
      "cell_type": "code",
      "execution_count": null,
      "metadata": {
        "id": "2ogU3nN7p2Of"
      },
      "outputs": [],
      "source": [
        "df1"
      ]
    },
    {
      "cell_type": "code",
      "execution_count": null,
      "metadata": {
        "id": "jSMy7VR5oFhs"
      },
      "outputs": [],
      "source": [
        "df1 = df1.astype({\"deduplication_id\": int})"
      ]
    },
    {
      "cell_type": "code",
      "execution_count": null,
      "metadata": {
        "id": "GWrEoS9bl9za"
      },
      "outputs": [],
      "source": [
        "#Drop those with dedup ID = 0, was cleaned out and not required for deduplipy\n",
        "\n",
        "df1.drop(df1[df1['deduplication_id'] < 1].index, inplace = True)"
      ]
    },
    {
      "cell_type": "code",
      "execution_count": null,
      "metadata": {
        "id": "43siZn9EqEC8"
      },
      "outputs": [],
      "source": [
        "df1"
      ]
    },
    {
      "cell_type": "code",
      "execution_count": null,
      "metadata": {
        "id": "g7vJnMf6t95v"
      },
      "outputs": [],
      "source": [
        "compared_df.info()"
      ]
    },
    {
      "cell_type": "code",
      "execution_count": null,
      "metadata": {
        "id": "RfgZp_-68lQn"
      },
      "outputs": [],
      "source": [
        "compared_df=compared_df.dropna()"
      ]
    },
    {
      "cell_type": "code",
      "execution_count": null,
      "metadata": {
        "id": "oDgL-EWPdQuU"
      },
      "outputs": [],
      "source": [
        "#df1 = df1.set_index('Name')\n",
        "#df2 = df2.set_index('Name')\n",
        "#df1.update(df2)\n",
        "#df1.reset_index(inplace=True)\n",
        "\n",
        "df1 = df1.set_index('deduplication_id')\n",
        "df2 = compared_df.set_index('dedup_id')\n",
        "df1.update(df2)\n",
        "df1.reset_index(inplace=True)"
      ]
    },
    {
      "cell_type": "code",
      "execution_count": null,
      "metadata": {
        "id": "-FI6idTqhwRb"
      },
      "outputs": [],
      "source": [
        "df1"
      ]
    },
    {
      "cell_type": "code",
      "execution_count": null,
      "metadata": {
        "id": "Nq9m0MTlYN4n"
      },
      "outputs": [],
      "source": [
        "df1.to_csv(\"newuninames.csv\")"
      ]
    },
    {
      "cell_type": "markdown",
      "metadata": {
        "id": "OAFXavY2Ykag"
      },
      "source": [
        "##Check new uni names"
      ]
    },
    {
      "cell_type": "code",
      "execution_count": null,
      "metadata": {
        "id": "eD7agGFSYj5Z"
      },
      "outputs": [],
      "source": [
        "df1['school_names'].value_counts().head(30).plot(kind='bar',figsize=(15,10))"
      ]
    },
    {
      "cell_type": "markdown",
      "source": [
        "#Leftover code"
      ],
      "metadata": {
        "id": "fgPyicKQXNx8"
      }
    },
    {
      "cell_type": "markdown",
      "metadata": {
        "id": "Iwp4zdn1p4s7"
      },
      "source": [
        "##Character count, accronyms for cleaning"
      ]
    },
    {
      "cell_type": "code",
      "execution_count": null,
      "metadata": {
        "id": "woHxM8o5hoLr"
      },
      "outputs": [],
      "source": [
        "unique_list['char_count'] = unique_list['school_name'].str.len()\n",
        "unique_list"
      ]
    },
    {
      "cell_type": "code",
      "execution_count": null,
      "metadata": {
        "id": "lisM2AXb8SRE"
      },
      "outputs": [],
      "source": [
        "unique_list[unique_list.char_count < 5]"
      ]
    },
    {
      "cell_type": "code",
      "execution_count": null,
      "metadata": {
        "id": "7vdbEPitAaGu"
      },
      "outputs": [],
      "source": [
        "#AMIK = AMIK BINA SARANA INFORMATIKA\n",
        "#BSI = UNIVERSITAS BINA SARANA INFORMATIKA\n",
        "#FKIP = FKIP BAHASA INGGRIS\n",
        "#FPT = FPT UNIVERSITY\n",
        "#GCUF = GOVERNMENT COLLEGE UNIVERSITY FAISALABAD\n",
        "#GIKI = GHULAM ISHAQ KHAN INSTITUTE\n",
        "#I3L = \tINDONESIA INTERNATIONAL INSTITUTE FOR LIFE SCIENCES\n",
        "#IAIN = INSTITUT AGAMA ISLAM NEGERI\n",
        "#IBA = \tUNIVERSITY IBA\n",
        "#IBBI = SEKOLAH TINGGI ILMU EKONOMI\n",
        "#IBM = IBM ASMI\n",
        "#ICBS = IMPERIAL COLLEGE OF BUSINESS STUDIES\n",
        "#IIEE = IIEE NED UNIVERSITY OF ENGINEERING AND TECHNOLOGY\n",
        "#IIUM = INTERNATIONAL ISLAMIC UNIVERSITY MALAYSIA \n",
        "#INTI = INTI INTERNATIONAL COLLEGE\n",
        "#IPA = INSTITUTE OF PUBLIC ADMINISTRATION\n",
        "#IPB = \tINSTITUT PERTANIAN BOGOR\n",
        "#ITB = BANDUNG INSTITUTE OF TECHNOLOGHY\n",
        "#ITNY = INSTITUT TEKNOLOGI NASIONAL YOGYAKARTA\n",
        "#ITS = INSTITUT SEPULUH NOPEMBER\n",
        "#IUMW = INTERNATIONAL UNIVERSITY OF MALAYAWALES\n",
        "#KPTM = KOLEJ POLYTECH MARA\n",
        "#LP31 = LP3I COLLEGE\n",
        "#LSC = LONDON SCHOOL OF COMMERCE\n",
        "#LSPR = LONDON SCHOOL OF PUBLIC RELATIONS\n",
        "#MCHM = MALAYSIAN COLLEGE OF HOSPITALITY AND MANAGEMENT\n",
        "#MMU = MULTIMEDIA UNIVERSITY\n",
        "#MSU = MANAGEMENT SCIENCE UNIVERSITY\n",
        "#NED = NED UNIVERSITY OF ENGINEERING AND TECHNOLOGY\n",
        "#NTU = NANYANG TECHNOLOGICAL UNIVERSITY\n",
        "#NUS = NATIONAL UNIVERSITY OF SINGAPORE\n",
        "#NUST = NATIONAL UNIVERSITY OF SCIENCE AND TECHNOLOGY NUST\n",
        "#PENS = ELECTRONIC ENGINEERING POLYTECHNIC INSTITUTE OF SURABAYA\n",
        "#PVU = TRƯỜNG ĐẠI HỌC\n",
        "#RMIT = ROYAL MELBOURNE INSTITUTE OF TECHNOLOGY\n",
        "#SEGI = SEGI COLLEGE\n",
        "#STIA = SEKOLAH TINGGI ILMU ADMINISTRASI\n",
        "#STIE = SEKOLAH TINGGI ILMU EKONOMI\n",
        "#SWUC = SOUTHWESTERN CHRISTIAN UNIVERSITY\n",
        "#UBSI = UNIVERSITAS BINA SARANA INFORMATIKA\n",
        "#UCSI = UCSI UNIVERISTY\n",
        "#UEF = ĐẠI HỌC KINH TẾ QUỐC DÂN\n",
        "#UEH = UNIVERSITY OF ECONOMICS HCMC\n",
        "#UEL = UNIVERSITY OF EAST LONDON\n",
        "#UGM = \tGADJAH MADA UNIVERSITY\n",
        "#UIAM = UNIVERSITI ISLAM ANTARABANGSA MALAYSIA\n",
        "#UII = UNIVERSITY ISLAM INDONESIA\n",
        "#UITM = MARA UNIVERSITY OF TECHNOLOGY MALAYSIA\n",
        "#UKI = \tUNIVERSITY KRISTEN INDONESIA\n",
        "#UKM = NATIONAL UNIVERSITY OF MALAYSIA\n",
        "#UM = UNIVERSITY OF MALAYA\n",
        "#UMJ = UNIVERSITAS MUHAMMADIYAH JAKARTA\n",
        "#UMM = UNIVERSITY OF MALAYA\n",
        "#UMP = UNIVERSITY MALAYSIA PAHANG\n",
        "#UMSU = UNIVERSITY MUHAMMADIYAH SUMATERA UTARA\n",
        "#UMT = UNIVERSITI MALAYSIA TERENGGANU\n",
        "#UMY = UNIVERSITY MUHAMMADIYAH YOGYAKARTA\n",
        "#UNS = SEBELAS MARET UNIVERSITY\n",
        "#UNSW = UNIVERSITY OF NEW SOUTH WALES\n",
        "#UNY = UNIVERSITAS NEGERI YOGYAKARTA\n",
        "#UOL = \tUNIVERSITY OF LONDON\n",
        "#UPH = PELITA HARAPAN UNIVERSITY\n",
        "#UPI = UNIVERSITY PENDIDIKAN INDONESIA\n",
        "#UPM = UNIVERSITY PUTRA MALAYSIA\n",
        "#UPNM = UNIVERSITI PERTAHANAN NASIONAL MALAYSIA\n",
        "#USIM = UNIVERSITI SAINS ISLAM MALAYSIA\n",
        "#USM = UNIVERSITI SAINS MALAYSIA\n",
        "#USU = UNIVERSITY SUMATERA UTARA\n",
        "#UTAR = UNIVERSITY TUNKU ABDUL RAHMAN\n",
        "#UTEM = UNIVERSITI TEKNIKAL MALAYSIA MELAKA\n",
        "#UTHM = UNIVERSITY TUN HUSSEIN ONN MALAYSIA\n",
        "#UTM = UNIVERSITY TEKNOLOGI MALAYSIA\n",
        "#UTP = UNIVERSITI TEKNOLOGI PETRONAS\n",
        "#UUM = UNIVERSITY UTARA MALAYSIA\n",
        "#YAI = AKADEMI AKUNTANSI YAI"
      ]
    },
    {
      "cell_type": "markdown",
      "metadata": {
        "id": "cQplx3xSu6tJ"
      },
      "source": [
        "##Clustering using Sklearn"
      ]
    },
    {
      "cell_type": "code",
      "execution_count": null,
      "metadata": {
        "id": "4vTHA7k6csCH"
      },
      "outputs": [],
      "source": [
        "!pip install leven"
      ]
    },
    {
      "cell_type": "code",
      "execution_count": null,
      "metadata": {
        "id": "z46nWKo5mhL8"
      },
      "outputs": [],
      "source": [
        "from leven import levenshtein       \n",
        "import numpy as np\n",
        "import sys\n",
        "from sklearn.cluster import dbscan,DBSCAN\n",
        "import sklearn\n",
        "\n",
        "np.set_printoptions(threshold=sys.maxsize)"
      ]
    },
    {
      "cell_type": "code",
      "execution_count": null,
      "metadata": {
        "id": "llRV_d1Zkj_t"
      },
      "outputs": [],
      "source": [
        "sklearn.__version__"
      ]
    },
    {
      "cell_type": "code",
      "execution_count": null,
      "metadata": {
        "id": "6DLvTcfJw44x"
      },
      "outputs": [],
      "source": [
        "cool = unique_list.values.tolist()"
      ]
    },
    {
      "cell_type": "code",
      "execution_count": null,
      "metadata": {
        "id": "9agrcgSodGt6"
      },
      "outputs": [],
      "source": [
        "data = cool\n",
        "def lev_metric(x, y):\n",
        "    i, j = int(x[0]), int(y[0])     # extract indices\n",
        "    return levenshtein(data[i], data[j])\n",
        "\n",
        "X = np.arange(len(data)).reshape(-1, 1)\n",
        "cluster=dbscan(X, metric=lev_metric, eps=5, min_samples=3)"
      ]
    },
    {
      "cell_type": "code",
      "execution_count": null,
      "metadata": {
        "id": "nUU_cK1KJ4G8"
      },
      "outputs": [],
      "source": [
        "levenshtein(\"abcd university\", \"university abcd\")"
      ]
    },
    {
      "cell_type": "code",
      "execution_count": null,
      "metadata": {
        "id": "zXFTO5_Vwp2U"
      },
      "outputs": [],
      "source": [
        "cluster_list=list(cluster)"
      ]
    },
    {
      "cell_type": "code",
      "execution_count": null,
      "metadata": {
        "id": "N90FnIodMot_"
      },
      "outputs": [],
      "source": [
        "cluster_list[1]"
      ]
    },
    {
      "cell_type": "code",
      "execution_count": null,
      "metadata": {
        "id": "kdFFwGmNmUBQ"
      },
      "outputs": [],
      "source": [
        "cluster_df = pd.DataFrame(cluster_list)"
      ]
    },
    {
      "cell_type": "code",
      "execution_count": null,
      "metadata": {
        "id": "aV5l6m2cIeab"
      },
      "outputs": [],
      "source": [
        "cluster_df"
      ]
    },
    {
      "cell_type": "code",
      "execution_count": null,
      "metadata": {
        "id": "V3qXZO84w5Z_"
      },
      "outputs": [],
      "source": [
        "cluster_df=cluster_df.transpose()"
      ]
    },
    {
      "cell_type": "code",
      "execution_count": null,
      "metadata": {
        "id": "2cIyxov8zhJR"
      },
      "outputs": [],
      "source": [
        "cluster_df.info()"
      ]
    },
    {
      "cell_type": "code",
      "execution_count": null,
      "metadata": {
        "id": "aEgbOdmlzxem"
      },
      "outputs": [],
      "source": [
        "combined_df = pd.concat([unique_list, cluster_df], axis=1, join='inner')"
      ]
    },
    {
      "cell_type": "code",
      "execution_count": null,
      "metadata": {
        "id": "oxIqgkvC0eEa"
      },
      "outputs": [],
      "source": [
        "combined_df.columns=['school_name', 'array1', 'array2']"
      ]
    },
    {
      "cell_type": "code",
      "execution_count": null,
      "metadata": {
        "id": "6Cbe4-6zREml"
      },
      "outputs": [],
      "source": [
        "combined_df.array2.value_counts()"
      ]
    },
    {
      "cell_type": "code",
      "execution_count": null,
      "metadata": {
        "id": "YyxNEWd8RRSm"
      },
      "outputs": [],
      "source": [
        "combined_df.sort_values('array2') #eps 5, min 3"
      ]
    },
    {
      "cell_type": "code",
      "execution_count": null,
      "metadata": {
        "id": "ozbFMCzYDeJi"
      },
      "outputs": [],
      "source": [
        "data = cool\n",
        "def lev_metric(x, y):\n",
        "    i, j = int(x[0]), int(y[0])     # extract indices\n",
        "    return levenshtein(data[i], data[j])\n",
        "\n",
        "X = np.arange(len(data)).reshape(-1, 1)\n",
        "cluster=dbscan(X, metric=lev_metric, eps=6, min_samples=2)"
      ]
    },
    {
      "cell_type": "code",
      "execution_count": null,
      "metadata": {
        "id": "Kn-xjUu9DoDX"
      },
      "outputs": [],
      "source": [
        "cluster_list=list(cluster)\n",
        "cluster_df = pd.DataFrame(cluster_list)\n",
        "cluster_df=cluster_df.transpose()\n",
        "combined_df2 = pd.concat([unique_list, cluster_df], axis=1, join='inner')\n",
        "combined_df2.columns=['school_name', 'array1', 'array2']"
      ]
    },
    {
      "cell_type": "code",
      "execution_count": null,
      "metadata": {
        "id": "EtFYogBoDwKT"
      },
      "outputs": [],
      "source": [
        "combined_df2.sort_values('array2') #eps 6, min 2"
      ]
    },
    {
      "cell_type": "markdown",
      "metadata": {
        "id": "RSwpOJJI2DVY"
      },
      "source": [
        "##Faster Clustering"
      ]
    },
    {
      "cell_type": "code",
      "execution_count": null,
      "metadata": {
        "id": "1UbdQUFU73V6"
      },
      "outputs": [],
      "source": [
        "!pip install levenshtein"
      ]
    },
    {
      "cell_type": "code",
      "execution_count": null,
      "metadata": {
        "id": "K-8AprHU2Ybd"
      },
      "outputs": [],
      "source": [
        "import numpy as np\n",
        "import pandas as pd\n",
        "import re\n",
        "from sklearn.cluster import DBSCAN\n",
        "from scipy.spatial.distance import pdist, squareform\n",
        "from Levenshtein import distance"
      ]
    },
    {
      "cell_type": "code",
      "execution_count": null,
      "metadata": {
        "id": "bUe3FSum65a9"
      },
      "outputs": [],
      "source": [
        "school_names = unique_list.to_numpy()"
      ]
    },
    {
      "cell_type": "code",
      "execution_count": null,
      "metadata": {
        "id": "uXKxvyjo9c1W"
      },
      "outputs": [],
      "source": [
        "school_names=school_names.flatten()"
      ]
    },
    {
      "cell_type": "code",
      "execution_count": null,
      "metadata": {
        "id": "kcsZGXyE2HI5"
      },
      "outputs": [],
      "source": [
        "def setdistance(l1, l2):\n",
        "  return distance(l1[0], l2[0])"
      ]
    },
    {
      "cell_type": "code",
      "execution_count": null,
      "metadata": {
        "id": "0J6HtMCh2LNj"
      },
      "outputs": [],
      "source": [
        "%%time\n",
        "distance_matrix = squareform(pdist(school_names.reshape(-1,1), metric=setdistance))\n",
        "cls = DBSCAN(metric=\"precomputed\", eps=3, min_samples=3)\n",
        "cls.fit(distance_matrix)\n",
        "label = pd.DataFrame({\"name\":school_names, \"label\":cls.labels_})"
      ]
    },
    {
      "cell_type": "code",
      "execution_count": null,
      "metadata": {
        "id": "cPVMDA2y7-Rt"
      },
      "outputs": [],
      "source": [
        "label.sort_values('label')"
      ]
    },
    {
      "cell_type": "code",
      "execution_count": null,
      "metadata": {
        "id": "WW67iRu7ITjN"
      },
      "outputs": [],
      "source": [
        "#label to look back on\n",
        "#-1, 0, 3, 10, 11, [1, 13-17], [19,20], [22,23], 27, 42, 43, 48, 49, [73,76], [77,78], \n",
        "#81, 82, 86, 87, 88, 89, [90,91], 93, [103-109], [110-114,116-118], [121,122], 123,\n",
        "#125, [127-138], [142,143], [145-150], [152,153], [154,160,162-169], 161, [170,171]\n",
        "#[174,175], [176,177], [181-187], [192,193], [194,195], 197, 199, [205,206], 222, 224\n",
        "#[291,292], 294, [298,299], 318, [321,322], 334, 335, 336,337, 338, 339, 341, 342,\n",
        "#343, 344, 346, 347, 348, 353, 354, 355, 357, 358, 360, 361, 362, 365, 366, 369\n",
        "\n",
        "#[1, 13-17] - ATMA JAYA CATHOLIC UNIVERSITY OF INDONESIA\n",
        "#[19,20] - BANDUNG INSTITUTE OF TECHNOLOGHY\n",
        "#[22,23] - STATE POLYTECHNIC\n",
        "#[73,76] - SEPULUH NOVEMBER INSTITUTE OF TECHNOLOGY\n",
        "#[77,78] - INTERNATIONAL ISLAMIC UNIVERSITY ISLAMABAD\n",
        "#[90,91] - KOLEJ UNIVERSITY POLYTECH\n",
        "#[103-109] - MUHAMMADIYAH UNIVERSITY\n",
        "#[110-114,116-118] - NATIONAL UNIVERSITY OF SCIENCE AND TECHNOLOGY\n",
        "#[121,122] - PERBANAS INSTITUTE\n",
        "#[127-138] - STATE POLYTECHNIC\n",
        "#[142,143] - QUAID E AWAM UNIVERSITY OF ENGINEERING SCIENCES AND TECHNOLOGY\n",
        "#[145-150] - SEKOLAH TINGGI (remove maybe)\n",
        "#[152,153] - SEPULUH NOVEMBER INSTITUTE OF TECHNOLOGY\n",
        "#[154,160,162,169] - SMK/SMA (remove maybe)\n",
        "#[170,171] - STATE ISLAMIC UNIVERSITY\n",
        "#[174,175] - Sekolah Tinggi Bahasa (remove, just a language school)\n",
        "#[176,177] - SEKOLAH TINGGI ILMU EKONOMI\n",
        "#[181-187] - SEKOLAH TINGGI (remove maybe)\n",
        "#[192,193] - TRISAKTI INSTITUTE OF TRANSPORTATION AND LOGISTICS\n",
        "#[194,195] - TUNKU ABDUL RAHMAN UNIVERSITY COLLEGE\n",
        "#[205,206] - MUHAMMADIYAH UNIVERSITY\n",
        "#[291,292] - DEVELOPMENT UNIVERSITY OF PANCA BUDI\n",
        "#[298,299] - PROF DR MOESTOPO UNIVERSITY\n",
        "#[220,321,322] - MARA UNIVERSITY OF TECHNOLOGY MALAYSIA"
      ]
    },
    {
      "cell_type": "markdown",
      "metadata": {
        "id": "vfohL36xLo8z"
      },
      "source": [
        "##Coding attempts\n"
      ]
    },
    {
      "cell_type": "code",
      "execution_count": null,
      "metadata": {
        "id": "UJgTGlbnLqIV"
      },
      "outputs": [],
      "source": [
        "school_name_list = school_namedf_na.iloc[:,0].values.tolist()\n",
        "#unique_list = ['UNIVERSITY OF' if i.startswith('UNIVER')]\n",
        "\n",
        "school_name_list"
      ]
    },
    {
      "cell_type": "code",
      "execution_count": null,
      "metadata": {
        "id": "s7qvNnMlLqXf"
      },
      "outputs": [],
      "source": [
        "z = []\n",
        "cool = []\n",
        "for x in school_name_list:\n",
        "  z.append(x.split())\n",
        "\n",
        "for anything in z:\n",
        "  if len(anything) < 1:\n",
        "    print(anything)"
      ]
    },
    {
      "cell_type": "code",
      "execution_count": null,
      "metadata": {
        "id": "jqaWOjSjLuix"
      },
      "outputs": [],
      "source": [
        "for i in range(len(z)):\n",
        "  if len(z[i]) == 0:\n",
        "    continue\n",
        "  \n",
        "  if z[i][0].endswith('ITAS'):\n",
        "    cool.append(' '.join(['UNIVERSITY'] + z[i][1:]))\n",
        "  else:\n",
        "    cool.append(' '.join(z[i][0:]))\n",
        "cool\n"
      ]
    },
    {
      "cell_type": "code",
      "execution_count": null,
      "metadata": {
        "id": "kVZC_Kf_MJnw"
      },
      "outputs": [],
      "source": [
        "school_name_list=pd.DataFrame(cool)\n",
        "school_name_list"
      ]
    },
    {
      "cell_type": "code",
      "execution_count": null,
      "metadata": {
        "id": "inLkAUwuMUdL"
      },
      "outputs": [],
      "source": [
        "data = cool\n",
        "def lev_metric(x, y):\n",
        "    i, j = int(x[0]), int(y[0])     # extract indices\n",
        "    return levenshtein(data[i], data[j])\n",
        "\n",
        "X = np.arange(len(data)).reshape(-1, 1)\n",
        "cluster=dbscan(X, metric=lev_metric, eps=6, min_samples=2)"
      ]
    },
    {
      "cell_type": "code",
      "execution_count": null,
      "metadata": {
        "id": "1szv6IqGMWl5"
      },
      "outputs": [],
      "source": [
        "cluster_list=list(cluster)\n",
        "cluster_df = pd.DataFrame(cluster_list)\n",
        "cluster_df=cluster_df.transpose()\n",
        "combined_df3 = pd.concat([school_name_list, cluster_df], axis=1, join='inner')\n",
        "combined_df3.columns=['school_name', 'array1', 'array2']"
      ]
    }
  ],
  "metadata": {
    "colab": {
      "collapsed_sections": [
        "Iwp4zdn1p4s7",
        "RSwpOJJI2DVY",
        "vfohL36xLo8z"
      ],
      "name": "University names",
      "provenance": []
    },
    "kernelspec": {
      "display_name": "Python 3",
      "name": "python3"
    },
    "language_info": {
      "name": "python"
    }
  },
  "nbformat": 4,
  "nbformat_minor": 0
}